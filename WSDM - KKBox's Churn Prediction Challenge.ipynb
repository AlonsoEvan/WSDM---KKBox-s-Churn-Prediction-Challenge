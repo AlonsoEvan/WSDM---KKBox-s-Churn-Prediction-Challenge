{
 "cells": [
  {
   "cell_type": "markdown",
   "metadata": {},
   "source": [
    "# Introduction"
   ]
  },
  {
   "cell_type": "markdown",
   "metadata": {},
   "source": [
    "This is the WSDM - KKBox’s Churn Prediction Challenge with Python.\n",
    "\n",
    "The aim of this challenge is to predict whether a user of the music streaming service KKBox will “churn”, i.e. leave this subscription-based service, by analysing the user’s behaviour on the website.\n",
    "\n",
    "The data comes in the shape of five different files. Four of them contain the user IDs and properties:\n",
    "\n",
    "- In train.csv we find the IDs and whether these users have churned or not.\n",
    "\n",
    "- transactions.csv gives us details like payment method or whether the subscription was cancelled.\n",
    "\n",
    "- user_logs.csv contains the listening behaviour of a user in terms of number of songs played.\n",
    "\n",
    "- members.csv includes the user’s age, city, and such for users that have these membership information.\n",
    "\n",
    "Finally, sample_submission_zero.csv serves as the test data set for the users for which we are tasked to predict their behaviour. Some of these files are large, with a maximum of about 6.65 GB for the user_logs data in a compressed form. We will discuss more of their content and features as the exploration goes along.\n",
    "\n",
    "\n",
    "\n",
    "1. [Load library](#1)\n",
    "1. [Load data](#2)\n",
    "1. [File structure and content](#3)\n",
    "1. [Data exploration](#4)\n",
    " - City, registered_via and Gender\n",
    " - registration_init_time \n",
    " - bd (age)\n",
    " - payment_method_id count\n",
    " - payment_method_id count\n",
    " - payment_plan_days count\n",
    " - plan_list_price count\n",
    " - actual_amount_paid count\n",
    " - is_auto_renew count\n",
    " - is_cancel count\n",
    "\n",
    "1. [Data processing](#5)\n",
    "1. [Models Selection](#6)\n",
    "1. [Oversampling methods](#7)\n",
    " - RandomOverSampler\n",
    " - SMOTE\n",
    " - Adasyn\n",
    " \n",
    "1. [Hyperparameters tuning](#8)\n",
    "1. [First submit to Kaggle](#9)\n",
    "1. [Feature Engineering](#10)\n",
    " - Feature 1 : discount\n",
    " - Feature 2 : is_discount\n",
    " - Feature 3 : amount_per_day\n",
    " - Feature 4 : membership_duration\n",
    " - Feature 5 : autorenew_&_not_cancel\n",
    " - Feature 6 : notAutorenew_&_cancel\n",
    " \n",
    "1. [Model selection](#11)\n",
    "1. [Second submit to Kaggle](#12)"
   ]
  },
  {
   "cell_type": "markdown",
   "metadata": {},
   "source": [
    "<a id=\"1\"></a> <br>\n",
    "## Load library"
   ]
  },
  {
   "cell_type": "code",
   "execution_count": 2,
   "metadata": {},
   "outputs": [],
   "source": [
    "import numpy as np # linear algebra\n",
    "import pandas as pd # data processing, CSV file I/O (e.g. pd.read_csv)\n",
    "import matplotlib.pyplot as plt\n",
    "import seaborn as sns\n",
    "import time\n",
    "from datetime import datetime\n",
    "from collections import Counter"
   ]
  },
  {
   "cell_type": "markdown",
   "metadata": {},
   "source": [
    "<a id=\"2\"></a> <br>\n",
    "## Load data"
   ]
  },
  {
   "cell_type": "code",
   "execution_count": 2,
   "metadata": {},
   "outputs": [],
   "source": [
    "pd.set_option('display.max_rows', None)\n",
    "\n",
    "train = pd.read_csv('train.csv')\n",
    "#sample_submission_zero= pd.read_csv('../input/sample_submission_zero.csv')\n",
    "members = pd.read_csv('members_v3.csv')\n",
    "transactions = pd.read_csv('transactions.csv')\n",
    "#user_logs = pd.read_csv('../input/user_logs.csv',nrows = 2e7)"
   ]
  },
  {
   "cell_type": "markdown",
   "metadata": {},
   "source": [
    "<a id=\"3\"></a> <br>\n",
    "## File structure and content"
   ]
  },
  {
   "cell_type": "markdown",
   "metadata": {},
   "source": [
    "Let's explore our train data set :"
   ]
  },
  {
   "cell_type": "code",
   "execution_count": 5,
   "metadata": {},
   "outputs": [
    {
     "data": {
      "text/html": [
       "<div>\n",
       "<style scoped>\n",
       "    .dataframe tbody tr th:only-of-type {\n",
       "        vertical-align: middle;\n",
       "    }\n",
       "\n",
       "    .dataframe tbody tr th {\n",
       "        vertical-align: top;\n",
       "    }\n",
       "\n",
       "    .dataframe thead th {\n",
       "        text-align: right;\n",
       "    }\n",
       "</style>\n",
       "<table border=\"1\" class=\"dataframe\">\n",
       "  <thead>\n",
       "    <tr style=\"text-align: right;\">\n",
       "      <th></th>\n",
       "      <th>msno</th>\n",
       "      <th>is_churn</th>\n",
       "    </tr>\n",
       "  </thead>\n",
       "  <tbody>\n",
       "    <tr>\n",
       "      <th>0</th>\n",
       "      <td>waLDQMmcOu2jLDaV1ddDkgCrB/jl6sD66Xzs0Vqax1Y=</td>\n",
       "      <td>1</td>\n",
       "    </tr>\n",
       "    <tr>\n",
       "      <th>1</th>\n",
       "      <td>QA7uiXy8vIbUSPOkCf9RwQ3FsT8jVq2OxDr8zqa7bRQ=</td>\n",
       "      <td>1</td>\n",
       "    </tr>\n",
       "    <tr>\n",
       "      <th>2</th>\n",
       "      <td>fGwBva6hikQmTJzrbz/2Ezjm5Cth5jZUNvXigKK2AFA=</td>\n",
       "      <td>1</td>\n",
       "    </tr>\n",
       "    <tr>\n",
       "      <th>3</th>\n",
       "      <td>mT5V8rEpa+8wuqi6x0DoVd3H5icMKkE9Prt49UlmK+4=</td>\n",
       "      <td>1</td>\n",
       "    </tr>\n",
       "    <tr>\n",
       "      <th>4</th>\n",
       "      <td>XaPhtGLk/5UvvOYHcONTwsnH97P4eGECeq+BARGItRw=</td>\n",
       "      <td>1</td>\n",
       "    </tr>\n",
       "  </tbody>\n",
       "</table>\n",
       "</div>"
      ],
      "text/plain": [
       "                                           msno  is_churn\n",
       "0  waLDQMmcOu2jLDaV1ddDkgCrB/jl6sD66Xzs0Vqax1Y=         1\n",
       "1  QA7uiXy8vIbUSPOkCf9RwQ3FsT8jVq2OxDr8zqa7bRQ=         1\n",
       "2  fGwBva6hikQmTJzrbz/2Ezjm5Cth5jZUNvXigKK2AFA=         1\n",
       "3  mT5V8rEpa+8wuqi6x0DoVd3H5icMKkE9Prt49UlmK+4=         1\n",
       "4  XaPhtGLk/5UvvOYHcONTwsnH97P4eGECeq+BARGItRw=         1"
      ]
     },
     "execution_count": 5,
     "metadata": {},
     "output_type": "execute_result"
    }
   ],
   "source": [
    "train.head()"
   ]
  },
  {
   "cell_type": "code",
   "execution_count": 7,
   "metadata": {},
   "outputs": [
    {
     "name": "stdout",
     "output_type": "stream",
     "text": [
      "<class 'pandas.core.frame.DataFrame'>\n",
      "RangeIndex: 992931 entries, 0 to 992930\n",
      "Data columns (total 2 columns):\n",
      "msno        992931 non-null object\n",
      "is_churn    992931 non-null int64\n",
      "dtypes: int64(1), object(1)\n",
      "memory usage: 15.2+ MB\n"
     ]
    }
   ],
   "source": [
    "train.info()"
   ]
  },
  {
   "cell_type": "code",
   "execution_count": 8,
   "metadata": {},
   "outputs": [
    {
     "data": {
      "text/html": [
       "<div>\n",
       "<style scoped>\n",
       "    .dataframe tbody tr th:only-of-type {\n",
       "        vertical-align: middle;\n",
       "    }\n",
       "\n",
       "    .dataframe tbody tr th {\n",
       "        vertical-align: top;\n",
       "    }\n",
       "\n",
       "    .dataframe thead th {\n",
       "        text-align: right;\n",
       "    }\n",
       "</style>\n",
       "<table border=\"1\" class=\"dataframe\">\n",
       "  <thead>\n",
       "    <tr style=\"text-align: right;\">\n",
       "      <th></th>\n",
       "      <th>is_churn</th>\n",
       "    </tr>\n",
       "  </thead>\n",
       "  <tbody>\n",
       "    <tr>\n",
       "      <th>count</th>\n",
       "      <td>992931.000000</td>\n",
       "    </tr>\n",
       "    <tr>\n",
       "      <th>mean</th>\n",
       "      <td>0.063923</td>\n",
       "    </tr>\n",
       "    <tr>\n",
       "      <th>std</th>\n",
       "      <td>0.244616</td>\n",
       "    </tr>\n",
       "    <tr>\n",
       "      <th>min</th>\n",
       "      <td>0.000000</td>\n",
       "    </tr>\n",
       "    <tr>\n",
       "      <th>25%</th>\n",
       "      <td>0.000000</td>\n",
       "    </tr>\n",
       "    <tr>\n",
       "      <th>50%</th>\n",
       "      <td>0.000000</td>\n",
       "    </tr>\n",
       "    <tr>\n",
       "      <th>75%</th>\n",
       "      <td>0.000000</td>\n",
       "    </tr>\n",
       "    <tr>\n",
       "      <th>max</th>\n",
       "      <td>1.000000</td>\n",
       "    </tr>\n",
       "  </tbody>\n",
       "</table>\n",
       "</div>"
      ],
      "text/plain": [
       "            is_churn\n",
       "count  992931.000000\n",
       "mean        0.063923\n",
       "std         0.244616\n",
       "min         0.000000\n",
       "25%         0.000000\n",
       "50%         0.000000\n",
       "75%         0.000000\n",
       "max         1.000000"
      ]
     },
     "execution_count": 8,
     "metadata": {},
     "output_type": "execute_result"
    }
   ],
   "source": [
    "train.describe()"
   ]
  },
  {
   "cell_type": "markdown",
   "metadata": {},
   "source": [
    "So train file contains 992931 user-ids(msno) with the binary classification as 1 (churn) and 0 ( no churn). Also the  training set majority users are in no churn category (0) - about 94 % and about 6% are accounting to churn. We have a very biased training set here, but that almost always the case in churn so no worries. We will deal with that.\n",
    "\n",
    "Next I will merge training set with members data set to explore more into training data sets."
   ]
  },
  {
   "cell_type": "code",
   "execution_count": 3,
   "metadata": {},
   "outputs": [
    {
     "data": {
      "text/html": [
       "<div>\n",
       "<style scoped>\n",
       "    .dataframe tbody tr th:only-of-type {\n",
       "        vertical-align: middle;\n",
       "    }\n",
       "\n",
       "    .dataframe tbody tr th {\n",
       "        vertical-align: top;\n",
       "    }\n",
       "\n",
       "    .dataframe thead th {\n",
       "        text-align: right;\n",
       "    }\n",
       "</style>\n",
       "<table border=\"1\" class=\"dataframe\">\n",
       "  <thead>\n",
       "    <tr style=\"text-align: right;\">\n",
       "      <th></th>\n",
       "      <th>msno</th>\n",
       "      <th>is_churn</th>\n",
       "      <th>city</th>\n",
       "      <th>bd</th>\n",
       "      <th>gender</th>\n",
       "      <th>registered_via</th>\n",
       "      <th>registration_init_time</th>\n",
       "    </tr>\n",
       "  </thead>\n",
       "  <tbody>\n",
       "    <tr>\n",
       "      <th>0</th>\n",
       "      <td>waLDQMmcOu2jLDaV1ddDkgCrB/jl6sD66Xzs0Vqax1Y=</td>\n",
       "      <td>1</td>\n",
       "      <td>18.0</td>\n",
       "      <td>36.0</td>\n",
       "      <td>female</td>\n",
       "      <td>9.0</td>\n",
       "      <td>20050406.0</td>\n",
       "    </tr>\n",
       "    <tr>\n",
       "      <th>1</th>\n",
       "      <td>QA7uiXy8vIbUSPOkCf9RwQ3FsT8jVq2OxDr8zqa7bRQ=</td>\n",
       "      <td>1</td>\n",
       "      <td>10.0</td>\n",
       "      <td>38.0</td>\n",
       "      <td>male</td>\n",
       "      <td>9.0</td>\n",
       "      <td>20050407.0</td>\n",
       "    </tr>\n",
       "    <tr>\n",
       "      <th>2</th>\n",
       "      <td>fGwBva6hikQmTJzrbz/2Ezjm5Cth5jZUNvXigKK2AFA=</td>\n",
       "      <td>1</td>\n",
       "      <td>11.0</td>\n",
       "      <td>27.0</td>\n",
       "      <td>female</td>\n",
       "      <td>9.0</td>\n",
       "      <td>20051016.0</td>\n",
       "    </tr>\n",
       "    <tr>\n",
       "      <th>3</th>\n",
       "      <td>mT5V8rEpa+8wuqi6x0DoVd3H5icMKkE9Prt49UlmK+4=</td>\n",
       "      <td>1</td>\n",
       "      <td>13.0</td>\n",
       "      <td>23.0</td>\n",
       "      <td>female</td>\n",
       "      <td>9.0</td>\n",
       "      <td>20051102.0</td>\n",
       "    </tr>\n",
       "    <tr>\n",
       "      <th>4</th>\n",
       "      <td>XaPhtGLk/5UvvOYHcONTwsnH97P4eGECeq+BARGItRw=</td>\n",
       "      <td>1</td>\n",
       "      <td>3.0</td>\n",
       "      <td>27.0</td>\n",
       "      <td>male</td>\n",
       "      <td>9.0</td>\n",
       "      <td>20051228.0</td>\n",
       "    </tr>\n",
       "  </tbody>\n",
       "</table>\n",
       "</div>"
      ],
      "text/plain": [
       "                                           msno  is_churn  city    bd  gender  \\\n",
       "0  waLDQMmcOu2jLDaV1ddDkgCrB/jl6sD66Xzs0Vqax1Y=         1  18.0  36.0  female   \n",
       "1  QA7uiXy8vIbUSPOkCf9RwQ3FsT8jVq2OxDr8zqa7bRQ=         1  10.0  38.0    male   \n",
       "2  fGwBva6hikQmTJzrbz/2Ezjm5Cth5jZUNvXigKK2AFA=         1  11.0  27.0  female   \n",
       "3  mT5V8rEpa+8wuqi6x0DoVd3H5icMKkE9Prt49UlmK+4=         1  13.0  23.0  female   \n",
       "4  XaPhtGLk/5UvvOYHcONTwsnH97P4eGECeq+BARGItRw=         1   3.0  27.0    male   \n",
       "\n",
       "   registered_via  registration_init_time  \n",
       "0             9.0              20050406.0  \n",
       "1             9.0              20050407.0  \n",
       "2             9.0              20051016.0  \n",
       "3             9.0              20051102.0  \n",
       "4             9.0              20051228.0  "
      ]
     },
     "execution_count": 3,
     "metadata": {},
     "output_type": "execute_result"
    }
   ],
   "source": [
    "training = pd.merge(left = train,right = members,how = 'left',on=['msno'])\n",
    "training.head()"
   ]
  },
  {
   "cell_type": "code",
   "execution_count": 10,
   "metadata": {},
   "outputs": [
    {
     "name": "stdout",
     "output_type": "stream",
     "text": [
      "<class 'pandas.core.frame.DataFrame'>\n",
      "Int64Index: 992931 entries, 0 to 992930\n",
      "Data columns (total 7 columns):\n",
      "msno                      992931 non-null object\n",
      "is_churn                  992931 non-null int64\n",
      "city                      877161 non-null float64\n",
      "bd                        877161 non-null float64\n",
      "gender                    391692 non-null object\n",
      "registered_via            877161 non-null float64\n",
      "registration_init_time    877161 non-null float64\n",
      "dtypes: float64(4), int64(1), object(2)\n",
      "memory usage: 60.6+ MB\n"
     ]
    }
   ],
   "source": [
    "training.info()"
   ]
  },
  {
   "cell_type": "markdown",
   "metadata": {},
   "source": [
    "We see that in the new merged data sets, the maximum non-null entries apart from is_churn and msno is 876143 (City, bd, registered_via, registration_init_time, expiration_date). So there are 116788 entries which dosen't have any data ( about 12%). Also there is concern in gender columns as about 60% null entries."
   ]
  },
  {
   "cell_type": "markdown",
   "metadata": {},
   "source": [
    "Changing the format of city and registered_via( except missing values) from float to int and changing blank values with NAN( for city, registered_via and gender)"
   ]
  },
  {
   "cell_type": "code",
   "execution_count": 4,
   "metadata": {},
   "outputs": [
    {
     "name": "stdout",
     "output_type": "stream",
     "text": [
      "<class 'pandas.core.frame.DataFrame'>\n",
      "Int64Index: 992931 entries, 0 to 992930\n",
      "Data columns (total 7 columns):\n",
      "msno                      992931 non-null object\n",
      "is_churn                  992931 non-null int64\n",
      "city                      992931 non-null object\n",
      "bd                        877161 non-null float64\n",
      "gender                    992931 non-null object\n",
      "registered_via            992931 non-null object\n",
      "registration_init_time    877161 non-null float64\n",
      "dtypes: float64(2), int64(1), object(4)\n",
      "memory usage: 60.6+ MB\n"
     ]
    }
   ],
   "source": [
    "training['city'] = training.city.apply(lambda x: int(x) if pd.notnull(x) else \"NAN\")\n",
    "training['registered_via'] = training.registered_via.apply(lambda x: int(x) if pd.notnull(x) else \"NAN\")\n",
    "training['gender']=training['gender'].fillna(\"NAN\")\n",
    "training.info()"
   ]
  },
  {
   "cell_type": "markdown",
   "metadata": {},
   "source": [
    "Changing the format of dates in YYYY-MM-DD"
   ]
  },
  {
   "cell_type": "code",
   "execution_count": 5,
   "metadata": {},
   "outputs": [
    {
     "data": {
      "text/html": [
       "<div>\n",
       "<style scoped>\n",
       "    .dataframe tbody tr th:only-of-type {\n",
       "        vertical-align: middle;\n",
       "    }\n",
       "\n",
       "    .dataframe tbody tr th {\n",
       "        vertical-align: top;\n",
       "    }\n",
       "\n",
       "    .dataframe thead th {\n",
       "        text-align: right;\n",
       "    }\n",
       "</style>\n",
       "<table border=\"1\" class=\"dataframe\">\n",
       "  <thead>\n",
       "    <tr style=\"text-align: right;\">\n",
       "      <th></th>\n",
       "      <th>msno</th>\n",
       "      <th>is_churn</th>\n",
       "      <th>city</th>\n",
       "      <th>bd</th>\n",
       "      <th>gender</th>\n",
       "      <th>registered_via</th>\n",
       "      <th>registration_init_time</th>\n",
       "    </tr>\n",
       "  </thead>\n",
       "  <tbody>\n",
       "    <tr>\n",
       "      <th>0</th>\n",
       "      <td>waLDQMmcOu2jLDaV1ddDkgCrB/jl6sD66Xzs0Vqax1Y=</td>\n",
       "      <td>1</td>\n",
       "      <td>18</td>\n",
       "      <td>36.0</td>\n",
       "      <td>female</td>\n",
       "      <td>9</td>\n",
       "      <td>2005-04-06</td>\n",
       "    </tr>\n",
       "    <tr>\n",
       "      <th>1</th>\n",
       "      <td>QA7uiXy8vIbUSPOkCf9RwQ3FsT8jVq2OxDr8zqa7bRQ=</td>\n",
       "      <td>1</td>\n",
       "      <td>10</td>\n",
       "      <td>38.0</td>\n",
       "      <td>male</td>\n",
       "      <td>9</td>\n",
       "      <td>2005-04-07</td>\n",
       "    </tr>\n",
       "    <tr>\n",
       "      <th>2</th>\n",
       "      <td>fGwBva6hikQmTJzrbz/2Ezjm5Cth5jZUNvXigKK2AFA=</td>\n",
       "      <td>1</td>\n",
       "      <td>11</td>\n",
       "      <td>27.0</td>\n",
       "      <td>female</td>\n",
       "      <td>9</td>\n",
       "      <td>2005-10-16</td>\n",
       "    </tr>\n",
       "    <tr>\n",
       "      <th>3</th>\n",
       "      <td>mT5V8rEpa+8wuqi6x0DoVd3H5icMKkE9Prt49UlmK+4=</td>\n",
       "      <td>1</td>\n",
       "      <td>13</td>\n",
       "      <td>23.0</td>\n",
       "      <td>female</td>\n",
       "      <td>9</td>\n",
       "      <td>2005-11-02</td>\n",
       "    </tr>\n",
       "    <tr>\n",
       "      <th>4</th>\n",
       "      <td>XaPhtGLk/5UvvOYHcONTwsnH97P4eGECeq+BARGItRw=</td>\n",
       "      <td>1</td>\n",
       "      <td>3</td>\n",
       "      <td>27.0</td>\n",
       "      <td>male</td>\n",
       "      <td>9</td>\n",
       "      <td>2005-12-28</td>\n",
       "    </tr>\n",
       "  </tbody>\n",
       "</table>\n",
       "</div>"
      ],
      "text/plain": [
       "                                           msno  is_churn city    bd  gender  \\\n",
       "0  waLDQMmcOu2jLDaV1ddDkgCrB/jl6sD66Xzs0Vqax1Y=         1   18  36.0  female   \n",
       "1  QA7uiXy8vIbUSPOkCf9RwQ3FsT8jVq2OxDr8zqa7bRQ=         1   10  38.0    male   \n",
       "2  fGwBva6hikQmTJzrbz/2Ezjm5Cth5jZUNvXigKK2AFA=         1   11  27.0  female   \n",
       "3  mT5V8rEpa+8wuqi6x0DoVd3H5icMKkE9Prt49UlmK+4=         1   13  23.0  female   \n",
       "4  XaPhtGLk/5UvvOYHcONTwsnH97P4eGECeq+BARGItRw=         1    3  27.0    male   \n",
       "\n",
       "  registered_via registration_init_time  \n",
       "0              9             2005-04-06  \n",
       "1              9             2005-04-07  \n",
       "2              9             2005-10-16  \n",
       "3              9             2005-11-02  \n",
       "4              9             2005-12-28  "
      ]
     },
     "execution_count": 5,
     "metadata": {},
     "output_type": "execute_result"
    }
   ],
   "source": [
    "training['registration_init_time'] = training.registration_init_time.apply(lambda x: datetime.strptime(str(int(x)), \"%Y%m%d\").date() if pd.notnull(x) else \"NAN\" )\n",
    "#training['expiration_date'] = training.expiration_date.apply(lambda x: datetime.strptime(str(int(x)), \"%Y%m%d\").date() if pd.notnull(x) else \"NAN\")\n",
    "training.head()"
   ]
  },
  {
   "cell_type": "markdown",
   "metadata": {},
   "source": [
    "That's better !"
   ]
  },
  {
   "cell_type": "markdown",
   "metadata": {},
   "source": [
    "<a id=\"4\"></a> <br>\n",
    "## Data Exploration\n",
    "\n",
    "### City, registered_via and Gender"
   ]
  },
  {
   "cell_type": "code",
   "execution_count": 15,
   "metadata": {},
   "outputs": [
    {
     "data": {
      "image/png": "[encoded data removed]",
      "text/plain": [
       "<Figure size 864x864 with 1 Axes>"
      ]
     },
     "metadata": {
      "needs_background": "light"
     },
     "output_type": "display_data"
    },
    {
     "name": "stdout",
     "output_type": "stream",
     "text": [
      "City Count [(1, 455389), ('NAN', 115770), (13, 98281), (5, 71299), (4, 47945), (15, 43356), (22, 42129), (6, 26022), (14, 20167), (12, 11554), (9, 9558), (11, 9036), (18, 7842), (8, 7690), (10, 6533), (17, 5546), (21, 5286), (3, 5089), (7, 2666), (16, 956), (20, 677), (19, 140)]\n"
     ]
    },
    {
     "data": {
      "image/png": "[encoded data removed]",
      "text/plain": [
       "<Figure size 864x864 with 1 Axes>"
      ]
     },
     "metadata": {
      "needs_background": "light"
     },
     "output_type": "display_data"
    },
    {
     "name": "stdout",
     "output_type": "stream",
     "text": [
      "Registered Via Count [(7, 482726), (9, 236620), ('NAN', 115770), (3, 105445), (4, 49283), (13, 3087)]\n"
     ]
    },
    {
     "data": {
      "image/png": "[encoded data removed]",
      "text/plain": [
       "<Figure size 864x864 with 1 Axes>"
      ]
     },
     "metadata": {
      "needs_background": "light"
     },
     "output_type": "display_data"
    },
    {
     "name": "stdout",
     "output_type": "stream",
     "text": [
      "Gender Count [('NAN', 601239), ('male', 206284), ('female', 185408)]\n"
     ]
    }
   ],
   "source": [
    "# City count\n",
    "plt.figure(figsize=(12,12))\n",
    "plt.subplot(411)\n",
    "city_order = training['city'].unique()\n",
    "city_order=sorted(city_order, key=lambda x: float(x))\n",
    "sns.countplot(x=\"city\", data=training , order = city_order)\n",
    "plt.ylabel('Count', fontsize=12)\n",
    "plt.xlabel('City', fontsize=12)\n",
    "plt.xticks(rotation='vertical')\n",
    "plt.title(\"Frequency of City Count\", fontsize=12)\n",
    "plt.show()\n",
    "city_count = Counter(training['city']).most_common()\n",
    "print(\"City Count \" +str(city_count))\n",
    "\n",
    "#Registered Via Count\n",
    "plt.figure(figsize=(12,12))\n",
    "plt.subplot(412)\n",
    "R_V_order = training['registered_via'].unique()\n",
    "R_V_order = sorted(R_V_order, key=lambda x: str(x))\n",
    "R_V_order = sorted(R_V_order, key=lambda x: float(x))\n",
    "#above repetion of commands are very silly, but this was the only way I was able to diplay what I wanted\n",
    "sns.countplot(x=\"registered_via\", data=training,order = R_V_order)\n",
    "plt.ylabel('Count', fontsize=12)\n",
    "plt.xlabel('Registered Via', fontsize=12)\n",
    "plt.xticks(rotation='vertical')\n",
    "plt.title(\"Frequency of Registered Via Count\", fontsize=12)\n",
    "plt.show()\n",
    "RV_count = Counter(training['registered_via']).most_common()\n",
    "print(\"Registered Via Count \" +str(RV_count))\n",
    "\n",
    "#Gender count\n",
    "plt.figure(figsize=(12,12))\n",
    "plt.subplot(413)\n",
    "sns.countplot(x=\"gender\", data=training)\n",
    "plt.ylabel('Count', fontsize=12)\n",
    "plt.xlabel('Gender', fontsize=12)\n",
    "plt.xticks(rotation='vertical')\n",
    "plt.title(\"Frequency of Gender Count\", fontsize=12)\n",
    "plt.show()\n",
    "gender_count = Counter(training['gender']).most_common()\n",
    "print(\"Gender Count \" +str(gender_count))\n"
   ]
  },
  {
   "cell_type": "markdown",
   "metadata": {},
   "source": [
    "### registration_init_time Trends exploration"
   ]
  },
  {
   "cell_type": "code",
   "execution_count": 17,
   "metadata": {},
   "outputs": [
    {
     "data": {
      "image/png": "[encoded data removed]",
      "text/plain": [
       "<Figure size 864x864 with 1 Axes>"
      ]
     },
     "metadata": {
      "needs_background": "light"
     },
     "output_type": "display_data"
    },
    {
     "name": "stdout",
     "output_type": "stream",
     "text": [
      "Yearly Count [(2016, 206892), (2015, 162008), (2013, 117059), ('NAN', 115770), (2014, 91680), (2012, 77280), (2011, 63379), (2010, 39906), (2007, 26355), (2006, 18193), (2008, 17725), (2017, 16691), (2009, 15804), (2005, 15759), (2004, 8430)]\n"
     ]
    },
    {
     "data": {
      "image/png": "[encoded data removed]",
      "text/plain": [
       "<Figure size 864x864 with 1 Axes>"
      ]
     },
     "metadata": {
      "needs_background": "light"
     },
     "output_type": "display_data"
    },
    {
     "name": "stdout",
     "output_type": "stream",
     "text": [
      "Monthly Count [('NAN', 115770), (1, 93707), (12, 84608), (10, 83335), (11, 81403), (8, 78424), (7, 76490), (2, 72651), (9, 70357), (3, 67086), (6, 60608), (5, 57224), (4, 51268)]\n"
     ]
    },
    {
     "data": {
      "image/png": "[encoded data removed]",
      "text/plain": [
       "<Figure size 864x864 with 1 Axes>"
      ]
     },
     "metadata": {
      "needs_background": "light"
     },
     "output_type": "display_data"
    },
    {
     "name": "stdout",
     "output_type": "stream",
     "text": [
      "Day-wise Count [('Saturday', 141948), ('Friday', 126268), ('Sunday', 124120), ('Monday', 122189), ('Tuesday', 121536), ('Thursday', 120794), ('Wednesday', 120306), ('NAN', 115770)]\n"
     ]
    }
   ],
   "source": [
    "#registration_init_time yearly trend\n",
    "training['registration_init_time_year'] = pd.DatetimeIndex(training['registration_init_time']).year\n",
    "training['registration_init_time_year'] = training.registration_init_time_year.apply(lambda x: int(x) if pd.notnull(x) else \"NAN\" )\n",
    "year_count=training['registration_init_time_year'].value_counts()\n",
    "#print(year_count)\n",
    "plt.figure(figsize=(12,12))\n",
    "plt.subplot(311)\n",
    "year_order = training['registration_init_time_year'].unique()\n",
    "year_order=sorted(year_order, key=lambda x: str(x))\n",
    "year_order = sorted(year_order, key=lambda x: float(x))\n",
    "sns.barplot(year_count.index, year_count.values,order=year_order)\n",
    "plt.ylabel('Count', fontsize=12)\n",
    "plt.xlabel('Year', fontsize=12)\n",
    "plt.xticks(rotation='vertical')\n",
    "plt.title(\"Yearly Trend of registration_init_time\", fontsize=12)\n",
    "plt.show()\n",
    "year_count_2 = Counter(training['registration_init_time_year']).most_common()\n",
    "print(\"Yearly Count \" +str(year_count_2))\n",
    "\n",
    "#registration_init_time monthly trend\n",
    "training['registration_init_time_month'] = pd.DatetimeIndex(training['registration_init_time']).month\n",
    "training['registration_init_time_month'] = training.registration_init_time_month.apply(lambda x: int(x) if pd.notnull(x) else \"NAN\" )\n",
    "month_count=training['registration_init_time_month'].value_counts()\n",
    "plt.figure(figsize=(12,12))\n",
    "plt.subplot(312)\n",
    "month_order = training['registration_init_time_month'].unique()\n",
    "month_order = sorted(month_order, key=lambda x: str(x))\n",
    "month_order = sorted(month_order, key=lambda x: float(x))\n",
    "sns.barplot(month_count.index, month_count.values,order=month_order)\n",
    "plt.ylabel('Count', fontsize=12)\n",
    "plt.xlabel('Month', fontsize=12)\n",
    "plt.xticks(rotation='vertical')\n",
    "plt.title(\"Monthly Trend of registration_init_time\", fontsize=12)\n",
    "plt.show()\n",
    "month_count_2 = Counter(training['registration_init_time_month']).most_common()\n",
    "print(\"Monthly Count \" +str(month_count_2))\n",
    "\n",
    "#registration_init_time day wise trend\n",
    "training['registration_init_time_weekday'] = pd.DatetimeIndex(training['registration_init_time']).weekday_name\n",
    "training['registration_init_time_weekday'] = training.registration_init_time_weekday.apply(lambda x: str(x) if pd.notnull(x) else \"NAN\" )\n",
    "day_count=training['registration_init_time_weekday'].value_counts()\n",
    "plt.figure(figsize=(12,12))\n",
    "plt.subplot(313)\n",
    "#day_order = training['registration_init_time_day'].unique()\n",
    "day_order = ['Monday','Tuesday','Wednesday','Thursday','Friday','Saturday','Sunday','NAN']\n",
    "sns.barplot(day_count.index, day_count.values,order=day_order)\n",
    "plt.ylabel('Count', fontsize=12)\n",
    "plt.xlabel('Day', fontsize=12)\n",
    "plt.xticks(rotation='vertical')\n",
    "plt.title(\"Day-wise Trend of registration_init_time\", fontsize=12)\n",
    "plt.show()\n",
    "day_count_2 = Counter(training['registration_init_time_weekday']).most_common()\n",
    "print(\"Day-wise Count \" +str(day_count_2))\n"
   ]
  },
  {
   "cell_type": "markdown",
   "metadata": {},
   "source": [
    "Observations :\n",
    "\n",
    "- There are total of 21 Cities Encoded ( there is no City \"2\" in the data set). This will be one-hot encoded.\n",
    "- There are Class of \"3\", \"4\", \"7\", \"9\", \"13\" listed as registration method. This will be one-hot encoded.\n",
    "- There are almost equal percentage of Male and Female, but about 60% of data is missing in gender field. We have see how to fill the missing entries or label them as third category. \n",
    "- Registration trend has increased yearly, though there was a dip in 2014. Due to data upto few months in 2017, there is a dip.\n",
    "- Registration monthly trends are high in year end and year starting months. In between there is a smooth valley formation.\n",
    "- Registration daily trends quite stable, maybe some peaks on weekends."
   ]
  },
  {
   "cell_type": "markdown",
   "metadata": {},
   "source": [
    "Now let's check our last variable : bd (birth daten correspond à l'age)\n",
    "\n",
    "### bd (age)"
   ]
  },
  {
   "cell_type": "code",
   "execution_count": 18,
   "metadata": {},
   "outputs": [
    {
     "data": {
      "text/plain": [
       "0.0     487488\n",
       "27.0     22950\n",
       "26.0     22149\n",
       "25.0     20870\n",
       "28.0     20492\n",
       "Name: bd, dtype: int64"
      ]
     },
     "execution_count": 18,
     "metadata": {},
     "output_type": "execute_result"
    }
   ],
   "source": [
    "bd_1=training.bd.value_counts()\n",
    "bd_1.head()"
   ]
  },
  {
   "cell_type": "code",
   "execution_count": 6,
   "metadata": {},
   "outputs": [
    {
     "name": "stdout",
     "output_type": "stream",
     "text": [
      "BD Count [(0, 487488), ('NAN', 115770), (27, 22950), (26, 22149), (25, 20870), (28, 20492), (24, 20476), (29, 19778), (23, 19329), (22, 17960), (30, 17413), (21, 15564), (31, 15231), (32, 14652), (20, 13601), (33, 13492), (34, 12236), (35, 11175), (36, 10071), (19, 9639), (37, 9020), (18, 7937), (38, 7771), (39, 6720), (40, 5714), (17, 5605), (41, 5265), (42, 4412), (43, 3747), (44, 3312), (45, 3063), (46, 3010), (47, 2920), (48, 2571), (16, 2435), (49, 2372), (50, 2053), (51, 1994), (52, 1778), (53, 1471), (54, 1185), (55, 1019), (56, 851), (15, 794), (57, 744), (58, 548), (59, 519), (60, 454), (61, 395), (62, 319), (63, 262), (14, 234), (64, 197), (65, 169), (66, 155), (67, 139), (68, 86), (106, 80), (69, 73), (117, 67), (70, 60), (112, 54), (13, 51), (72, 45), (71, 38), (73, 38), (77, 31), (74, 29), (12, 25), (1, 25), (75, 22), (76, 22), (84, 20), (95, 19), (105, 18), (102, 18), (6, 17), (89, 16), (92, 16), (81, 16), (7, 15), (91, 15), (103, 15), (104, 14), (5, 14), (101, 13), (83, 13), (78, 13), (97, 12), (79, 12), (94, 11), (107, 11), (98, 10), (11, 10), (3, 10), (2, 10), (4, 10), (90, 10), (80, 10), (10, 10), (109, 9), (111, 9), (-51, 9), (93, 9), (96, 8), (85, 8), (9, 8), (1032, 8), (-48, 7), (-50, 7), (1033, 7), (-49, 7), (86, 7), (88, 7), (87, 7), (8, 6), (82, 6), (100, 6), (1029, 5), (116, 5), (1030, 5), (-42, 5), (-43, 4), (-44, 4), (-45, 4), (1031, 4), (1036, 3), (1052, 3), (128, 3), (1043, 3), (122, 3), (119, 3), (1037, 3), (-47, 3), (-46, 3), (945, 2), (129, 2), (99, 2), (1051, 2), (1035, 2), (-39, 2), (1041, 2), (1820, 2), (948, 2), (110, 2), (931, 2), (113, 2), (220, 2), (1028, 2), (-34, 2), (-41, 2), (1034, 2), (1038, 2), (139, 2), (941, 2), (-40, 2), (114, 1), (810, 1), (821, 1), (939, 1), (826, 1), (933, 1), (1213, 1), (964, 1), (1040, 1), (-5, 1), (-36, 1), (-7, 1), (319, 1), (820, 1), (-3152, 1), (-2828, 1), (951, 1), (-19, 1), (153, 1), (936, 1), (1042, 1), (197, 1), (743, 1), (1026, 1), (323, 1), (928, 1), (132, 1), (1970, 1), (1111, 1), (320, 1), (123, 1), (934, 1), (930, 1), (137, 1), (1022, 1), (837, 1), (1053, 1), (946, 1), (778, 1), (1421, 1), (-9, 1), (160, 1), (1048, 1), (131, 1), (906, 1), (1008, 1), (824, 1), (-35, 1), (-30, 1), (1011, 1), (942, 1), (1017, 1), (1049, 1), (115, 1), (-38, 1), (130, 1), (-23, 1), (786, 1), (148, 1), (950, 1), (1009, 1), (-37, 1), (-32, 1), (519, 1), (133, 1), (922, 1), (961, 1), (2016, 1), (121, 1), (144, 1), (332, 1), (138, 1), (126, 1), (947, 1), (340, 1), (120, 1), (-178, 1)]\n"
     ]
    }
   ],
   "source": [
    "training['bd'] = training.bd.apply(lambda x: int(x) if pd.notnull(x) else \"NAN\" )\n",
    "bd_count = Counter(training['bd']).most_common()\n",
    "print(\"BD Count \" +str(bd_count))"
   ]
  },
  {
   "cell_type": "markdown",
   "metadata": {},
   "source": [
    "- First we can make all Birth date <= 1 to -99999( just a large -ve number) as I don't think it would make a difference\n",
    "- Next we can also ignore the Birth Date >= 100."
   ]
  },
  {
   "cell_type": "code",
   "execution_count": 7,
   "metadata": {},
   "outputs": [],
   "source": [
    "training['bd'] = training.bd.apply(lambda x: -99999 if float(x)<=1 else x)\n",
    "training['bd'] = training.bd.apply(lambda x: -99999 if float(x)>=100 else x)"
   ]
  },
  {
   "cell_type": "code",
   "execution_count": 8,
   "metadata": {},
   "outputs": [
    {
     "data": {
      "text/plain": [
       "-99999    488052\n",
       "NAN       115770\n",
       "27         22950\n",
       "26         22149\n",
       "25         20870\n",
       "Name: bd, dtype: int64"
      ]
     },
     "execution_count": 8,
     "metadata": {},
     "output_type": "execute_result"
    }
   ],
   "source": [
    "bd_2=training.bd.value_counts()\n",
    "bd_2.head()"
   ]
  },
  {
   "cell_type": "markdown",
   "metadata": {},
   "source": [
    "That's it !"
   ]
  },
  {
   "cell_type": "code",
   "execution_count": 25,
   "metadata": {},
   "outputs": [
    {
     "name": "stdout",
     "output_type": "stream",
     "text": [
      "Mean of Birth Date = 29.97192303441966\n",
      "Median of Birth Date = 28.0\n"
     ]
    },
    {
     "data": {
      "image/png": "[encoded data removed]",
      "text/plain": [
       "<Figure size 1152x864 with 1 Axes>"
      ]
     },
     "metadata": {
      "needs_background": "light"
     },
     "output_type": "display_data"
    },
    {
     "data": {
      "image/png": "[encoded data removed]",
      "text/plain": [
       "<Figure size 288x864 with 1 Axes>"
      ]
     },
     "metadata": {
      "needs_background": "light"
     },
     "output_type": "display_data"
    }
   ],
   "source": [
    "tmp_bd = training[(training.bd != \"NAN\") & (training.bd != -99999)]\n",
    "print(\"Mean of Birth Date = \" +str(np.mean(tmp_bd['bd'])))\n",
    "print(\"Median of Birth Date = \" +str(np.median(tmp_bd['bd'])))\n",
    "#print(\"Mode of Birth Date = \" +str(np.mode(tmp_bd['bd'])))\n",
    "plt.figure(figsize=(16,12))\n",
    "plt.subplot(211)\n",
    "bd_order_2 = tmp_bd['bd'].unique()\n",
    "bd_order_2 = sorted(bd_order_2, key=lambda x: float(x))\n",
    "sns.countplot(x=\"bd\", data=tmp_bd , order = bd_order_2)\n",
    "plt.ylabel('Count', fontsize=12)\n",
    "plt.xlabel('BD', fontsize=12)\n",
    "plt.xticks(rotation='vertical')\n",
    "plt.title(\"Frequency of Age Count without ouliers and NAN values\", fontsize=12)\n",
    "plt.show()\n",
    "\n",
    "plt.figure(figsize=(4,12))\n",
    "plt.subplot(212)\n",
    "sns.boxplot(y=tmp_bd[\"bd\"],data=tmp_bd)\n",
    "plt.xlabel('BD', fontsize=12)\n",
    "plt.title(\"Box Plot of Age without ouliers and NAN values\", fontsize=12)\n",
    "plt.show()"
   ]
  },
  {
   "cell_type": "markdown",
   "metadata": {},
   "source": [
    "So mostly we see that age is in-between 15-50 years mostly, excluding the outliers( about 49% ) and NA's(12%)."
   ]
  },
  {
   "cell_type": "markdown",
   "metadata": {},
   "source": [
    "Now, let us explore transactions data set"
   ]
  },
  {
   "cell_type": "code",
   "execution_count": 26,
   "metadata": {},
   "outputs": [
    {
     "data": {
      "text/html": [
       "<div>\n",
       "<style scoped>\n",
       "    .dataframe tbody tr th:only-of-type {\n",
       "        vertical-align: middle;\n",
       "    }\n",
       "\n",
       "    .dataframe tbody tr th {\n",
       "        vertical-align: top;\n",
       "    }\n",
       "\n",
       "    .dataframe thead th {\n",
       "        text-align: right;\n",
       "    }\n",
       "</style>\n",
       "<table border=\"1\" class=\"dataframe\">\n",
       "  <thead>\n",
       "    <tr style=\"text-align: right;\">\n",
       "      <th></th>\n",
       "      <th>msno</th>\n",
       "      <th>payment_method_id</th>\n",
       "      <th>payment_plan_days</th>\n",
       "      <th>plan_list_price</th>\n",
       "      <th>actual_amount_paid</th>\n",
       "      <th>is_auto_renew</th>\n",
       "      <th>transaction_date</th>\n",
       "      <th>membership_expire_date</th>\n",
       "      <th>is_cancel</th>\n",
       "    </tr>\n",
       "  </thead>\n",
       "  <tbody>\n",
       "    <tr>\n",
       "      <th>0</th>\n",
       "      <td>YyO+tlZtAXYXoZhNr3Vg3+dfVQvrBVGO8j1mfqe4ZHc=</td>\n",
       "      <td>41</td>\n",
       "      <td>30</td>\n",
       "      <td>129</td>\n",
       "      <td>129</td>\n",
       "      <td>1</td>\n",
       "      <td>20150930</td>\n",
       "      <td>20151101</td>\n",
       "      <td>0</td>\n",
       "    </tr>\n",
       "    <tr>\n",
       "      <th>1</th>\n",
       "      <td>AZtu6Wl0gPojrEQYB8Q3vBSmE2wnZ3hi1FbK1rQQ0A4=</td>\n",
       "      <td>41</td>\n",
       "      <td>30</td>\n",
       "      <td>149</td>\n",
       "      <td>149</td>\n",
       "      <td>1</td>\n",
       "      <td>20150930</td>\n",
       "      <td>20151031</td>\n",
       "      <td>0</td>\n",
       "    </tr>\n",
       "    <tr>\n",
       "      <th>2</th>\n",
       "      <td>UkDFI97Qb6+s2LWcijVVv4rMAsORbVDT2wNXF0aVbns=</td>\n",
       "      <td>41</td>\n",
       "      <td>30</td>\n",
       "      <td>129</td>\n",
       "      <td>129</td>\n",
       "      <td>1</td>\n",
       "      <td>20150930</td>\n",
       "      <td>20160427</td>\n",
       "      <td>0</td>\n",
       "    </tr>\n",
       "    <tr>\n",
       "      <th>3</th>\n",
       "      <td>M1C56ijxozNaGD0t2h68PnH2xtx5iO5iR2MVYQB6nBI=</td>\n",
       "      <td>39</td>\n",
       "      <td>30</td>\n",
       "      <td>149</td>\n",
       "      <td>149</td>\n",
       "      <td>1</td>\n",
       "      <td>20150930</td>\n",
       "      <td>20151128</td>\n",
       "      <td>0</td>\n",
       "    </tr>\n",
       "    <tr>\n",
       "      <th>4</th>\n",
       "      <td>yvj6zyBUaqdbUQSrKsrZ+xNDVM62knauSZJzakS9OW4=</td>\n",
       "      <td>39</td>\n",
       "      <td>30</td>\n",
       "      <td>149</td>\n",
       "      <td>149</td>\n",
       "      <td>1</td>\n",
       "      <td>20150930</td>\n",
       "      <td>20151121</td>\n",
       "      <td>0</td>\n",
       "    </tr>\n",
       "  </tbody>\n",
       "</table>\n",
       "</div>"
      ],
      "text/plain": [
       "                                           msno  payment_method_id  \\\n",
       "0  YyO+tlZtAXYXoZhNr3Vg3+dfVQvrBVGO8j1mfqe4ZHc=                 41   \n",
       "1  AZtu6Wl0gPojrEQYB8Q3vBSmE2wnZ3hi1FbK1rQQ0A4=                 41   \n",
       "2  UkDFI97Qb6+s2LWcijVVv4rMAsORbVDT2wNXF0aVbns=                 41   \n",
       "3  M1C56ijxozNaGD0t2h68PnH2xtx5iO5iR2MVYQB6nBI=                 39   \n",
       "4  yvj6zyBUaqdbUQSrKsrZ+xNDVM62knauSZJzakS9OW4=                 39   \n",
       "\n",
       "   payment_plan_days  plan_list_price  actual_amount_paid  is_auto_renew  \\\n",
       "0                 30              129                 129              1   \n",
       "1                 30              149                 149              1   \n",
       "2                 30              129                 129              1   \n",
       "3                 30              149                 149              1   \n",
       "4                 30              149                 149              1   \n",
       "\n",
       "   transaction_date  membership_expire_date  is_cancel  \n",
       "0          20150930                20151101          0  \n",
       "1          20150930                20151031          0  \n",
       "2          20150930                20160427          0  \n",
       "3          20150930                20151128          0  \n",
       "4          20150930                20151121          0  "
      ]
     },
     "execution_count": 26,
     "metadata": {},
     "output_type": "execute_result"
    }
   ],
   "source": [
    "transactions.head()"
   ]
  },
  {
   "cell_type": "code",
   "execution_count": 27,
   "metadata": {},
   "outputs": [
    {
     "name": "stdout",
     "output_type": "stream",
     "text": [
      "<class 'pandas.core.frame.DataFrame'>\n",
      "RangeIndex: 21547746 entries, 0 to 21547745\n",
      "Data columns (total 9 columns):\n",
      "msno                      object\n",
      "payment_method_id         int64\n",
      "payment_plan_days         int64\n",
      "plan_list_price           int64\n",
      "actual_amount_paid        int64\n",
      "is_auto_renew             int64\n",
      "transaction_date          int64\n",
      "membership_expire_date    int64\n",
      "is_cancel                 int64\n",
      "dtypes: int64(8), object(1)\n",
      "memory usage: 1.4+ GB\n"
     ]
    }
   ],
   "source": [
    "transactions.info()"
   ]
  },
  {
   "cell_type": "code",
   "execution_count": 28,
   "metadata": {},
   "outputs": [
    {
     "data": {
      "text/html": [
       "<div>\n",
       "<style scoped>\n",
       "    .dataframe tbody tr th:only-of-type {\n",
       "        vertical-align: middle;\n",
       "    }\n",
       "\n",
       "    .dataframe tbody tr th {\n",
       "        vertical-align: top;\n",
       "    }\n",
       "\n",
       "    .dataframe thead th {\n",
       "        text-align: right;\n",
       "    }\n",
       "</style>\n",
       "<table border=\"1\" class=\"dataframe\">\n",
       "  <thead>\n",
       "    <tr style=\"text-align: right;\">\n",
       "      <th></th>\n",
       "      <th>payment_method_id</th>\n",
       "      <th>payment_plan_days</th>\n",
       "      <th>plan_list_price</th>\n",
       "      <th>actual_amount_paid</th>\n",
       "      <th>is_auto_renew</th>\n",
       "      <th>transaction_date</th>\n",
       "      <th>membership_expire_date</th>\n",
       "      <th>is_cancel</th>\n",
       "    </tr>\n",
       "  </thead>\n",
       "  <tbody>\n",
       "    <tr>\n",
       "      <th>count</th>\n",
       "      <td>2.154775e+07</td>\n",
       "      <td>2.154775e+07</td>\n",
       "      <td>2.154775e+07</td>\n",
       "      <td>2.154775e+07</td>\n",
       "      <td>2.154775e+07</td>\n",
       "      <td>2.154775e+07</td>\n",
       "      <td>2.154775e+07</td>\n",
       "      <td>2.154775e+07</td>\n",
       "    </tr>\n",
       "    <tr>\n",
       "      <th>mean</th>\n",
       "      <td>3.893310e+01</td>\n",
       "      <td>3.133906e+01</td>\n",
       "      <td>1.398850e+02</td>\n",
       "      <td>1.419873e+02</td>\n",
       "      <td>8.519661e-01</td>\n",
       "      <td>2.015760e+07</td>\n",
       "      <td>2.015862e+07</td>\n",
       "      <td>3.976523e-02</td>\n",
       "    </tr>\n",
       "    <tr>\n",
       "      <th>std</th>\n",
       "      <td>3.507936e+00</td>\n",
       "      <td>3.035649e+01</td>\n",
       "      <td>1.309647e+02</td>\n",
       "      <td>1.324824e+02</td>\n",
       "      <td>3.551336e-01</td>\n",
       "      <td>6.155979e+03</td>\n",
       "      <td>7.755753e+03</td>\n",
       "      <td>1.954072e-01</td>\n",
       "    </tr>\n",
       "    <tr>\n",
       "      <th>min</th>\n",
       "      <td>1.000000e+00</td>\n",
       "      <td>0.000000e+00</td>\n",
       "      <td>0.000000e+00</td>\n",
       "      <td>0.000000e+00</td>\n",
       "      <td>0.000000e+00</td>\n",
       "      <td>2.015010e+07</td>\n",
       "      <td>1.970010e+07</td>\n",
       "      <td>0.000000e+00</td>\n",
       "    </tr>\n",
       "    <tr>\n",
       "      <th>25%</th>\n",
       "      <td>3.800000e+01</td>\n",
       "      <td>3.000000e+01</td>\n",
       "      <td>9.900000e+01</td>\n",
       "      <td>9.900000e+01</td>\n",
       "      <td>1.000000e+00</td>\n",
       "      <td>2.015091e+07</td>\n",
       "      <td>2.015102e+07</td>\n",
       "      <td>0.000000e+00</td>\n",
       "    </tr>\n",
       "    <tr>\n",
       "      <th>50%</th>\n",
       "      <td>4.100000e+01</td>\n",
       "      <td>3.000000e+01</td>\n",
       "      <td>1.490000e+02</td>\n",
       "      <td>1.490000e+02</td>\n",
       "      <td>1.000000e+00</td>\n",
       "      <td>2.016032e+07</td>\n",
       "      <td>2.016043e+07</td>\n",
       "      <td>0.000000e+00</td>\n",
       "    </tr>\n",
       "    <tr>\n",
       "      <th>75%</th>\n",
       "      <td>4.100000e+01</td>\n",
       "      <td>3.000000e+01</td>\n",
       "      <td>1.490000e+02</td>\n",
       "      <td>1.490000e+02</td>\n",
       "      <td>1.000000e+00</td>\n",
       "      <td>2.016092e+07</td>\n",
       "      <td>2.016103e+07</td>\n",
       "      <td>0.000000e+00</td>\n",
       "    </tr>\n",
       "    <tr>\n",
       "      <th>max</th>\n",
       "      <td>4.100000e+01</td>\n",
       "      <td>4.500000e+02</td>\n",
       "      <td>2.000000e+03</td>\n",
       "      <td>2.000000e+03</td>\n",
       "      <td>1.000000e+00</td>\n",
       "      <td>2.017023e+07</td>\n",
       "      <td>2.017033e+07</td>\n",
       "      <td>1.000000e+00</td>\n",
       "    </tr>\n",
       "  </tbody>\n",
       "</table>\n",
       "</div>"
      ],
      "text/plain": [
       "       payment_method_id  payment_plan_days  plan_list_price  \\\n",
       "count       2.154775e+07       2.154775e+07     2.154775e+07   \n",
       "mean        3.893310e+01       3.133906e+01     1.398850e+02   \n",
       "std         3.507936e+00       3.035649e+01     1.309647e+02   \n",
       "min         1.000000e+00       0.000000e+00     0.000000e+00   \n",
       "25%         3.800000e+01       3.000000e+01     9.900000e+01   \n",
       "50%         4.100000e+01       3.000000e+01     1.490000e+02   \n",
       "75%         4.100000e+01       3.000000e+01     1.490000e+02   \n",
       "max         4.100000e+01       4.500000e+02     2.000000e+03   \n",
       "\n",
       "       actual_amount_paid  is_auto_renew  transaction_date  \\\n",
       "count        2.154775e+07   2.154775e+07      2.154775e+07   \n",
       "mean         1.419873e+02   8.519661e-01      2.015760e+07   \n",
       "std          1.324824e+02   3.551336e-01      6.155979e+03   \n",
       "min          0.000000e+00   0.000000e+00      2.015010e+07   \n",
       "25%          9.900000e+01   1.000000e+00      2.015091e+07   \n",
       "50%          1.490000e+02   1.000000e+00      2.016032e+07   \n",
       "75%          1.490000e+02   1.000000e+00      2.016092e+07   \n",
       "max          2.000000e+03   1.000000e+00      2.017023e+07   \n",
       "\n",
       "       membership_expire_date     is_cancel  \n",
       "count            2.154775e+07  2.154775e+07  \n",
       "mean             2.015862e+07  3.976523e-02  \n",
       "std              7.755753e+03  1.954072e-01  \n",
       "min              1.970010e+07  0.000000e+00  \n",
       "25%              2.015102e+07  0.000000e+00  \n",
       "50%              2.016043e+07  0.000000e+00  \n",
       "75%              2.016103e+07  0.000000e+00  \n",
       "max              2.017033e+07  1.000000e+00  "
      ]
     },
     "execution_count": 28,
     "metadata": {},
     "output_type": "execute_result"
    }
   ],
   "source": [
    "transactions.describe()"
   ]
  },
  {
   "cell_type": "markdown",
   "metadata": {},
   "source": [
    "###  payment_method_id count"
   ]
  },
  {
   "cell_type": "code",
   "execution_count": 30,
   "metadata": {},
   "outputs": [
    {
     "data": {
      "image/png": "[encoded data removed]",
      "text/plain": [
       "<Figure size 1296x432 with 1 Axes>"
      ]
     },
     "metadata": {
      "needs_background": "light"
     },
     "output_type": "display_data"
    },
    {
     "name": "stdout",
     "output_type": "stream",
     "text": [
      "payment_method_id Count [(41, 11526454), (40, 2225283), (38, 1703590), (39, 1466655), (37, 1007689), (36, 855115), (34, 731539), (35, 541399), (33, 411164), (31, 252342), (30, 160957), (32, 146481), (29, 113885), (28, 95733), (27, 62525), (23, 42386), (19, 32073), (20, 28278), (21, 22883), (22, 20130), (24, 16196), (18, 16177), (25, 13780), (14, 13621), (16, 11064), (17, 7437), (13, 6571), (26, 4591), (12, 3834), (11, 2129), (15, 1479), (10, 1326), (7, 1094), (8, 657), (5, 474), (6, 466), (3, 210), (2, 52), (4, 15), (1, 12)]\n"
     ]
    }
   ],
   "source": [
    "plt.figure(figsize=(18,6))\n",
    "#plt.subplot(311)\n",
    "sns.countplot(x=\"payment_method_id\", data=transactions)\n",
    "plt.ylabel('Count', fontsize=12)\n",
    "plt.xlabel('payment_method_id', fontsize=12)\n",
    "plt.xticks(rotation='vertical')\n",
    "plt.title(\"Frequency of payment_method_id Count in transactions Data Set\", fontsize=12)\n",
    "plt.show()\n",
    "payment_method_id_count = Counter(transactions['payment_method_id']).most_common()\n",
    "print(\"payment_method_id Count \" +str(payment_method_id_count))"
   ]
  },
  {
   "cell_type": "markdown",
   "metadata": {},
   "source": [
    "### payment_plan_days count"
   ]
  },
  {
   "cell_type": "code",
   "execution_count": 31,
   "metadata": {},
   "outputs": [
    {
     "data": {
      "image/png": "[encoded data removed]",
      "text/plain": [
       "<Figure size 1296x432 with 1 Axes>"
      ]
     },
     "metadata": {
      "needs_background": "light"
     },
     "output_type": "display_data"
    },
    {
     "name": "stdout",
     "output_type": "stream",
     "text": [
      "payment_plan_days Count [(30, 18956290), (0, 870124), (31, 766608), (7, 577639), (195, 110234), (410, 80139), (180, 52272), (10, 38216), (100, 24154), (90, 12310), (395, 10790), (120, 10007), (60, 7167), (14, 6365), (200, 5838), (360, 5486), (1, 4759), (400, 1856), (450, 1271), (240, 1088), (45, 1082), (21, 869), (35, 825), (70, 587), (80, 342), (99, 339), (365, 312), (270, 190), (66, 175), (110, 159), (230, 103), (2, 67), (3, 59), (15, 21), (425, 1), (415, 1), (95, 1)]\n"
     ]
    }
   ],
   "source": [
    "\n",
    "plt.figure(figsize=(18,6))\n",
    "sns.countplot(x=\"payment_plan_days\", data=transactions)\n",
    "plt.ylabel('Count', fontsize=12)\n",
    "plt.xlabel('payment_plan_days', fontsize=12)\n",
    "plt.xticks(rotation='vertical')\n",
    "plt.title(\"Frequency of payment_plan_days Count in transactions Data Set\", fontsize=12)\n",
    "plt.show()\n",
    "payment_plan_days_count = Counter(transactions['payment_plan_days']).most_common()\n",
    "print(\"payment_plan_days Count \" +str(payment_plan_days_count))"
   ]
  },
  {
   "cell_type": "markdown",
   "metadata": {},
   "source": [
    "### plan_list_price count"
   ]
  },
  {
   "cell_type": "code",
   "execution_count": 32,
   "metadata": {},
   "outputs": [
    {
     "data": {
      "image/png": "[encoded data removed]",
      "text/plain": [
       "<Figure size 1296x432 with 1 Axes>"
      ]
     },
     "metadata": {
      "needs_background": "light"
     },
     "output_type": "display_data"
    },
    {
     "name": "stdout",
     "output_type": "stream",
     "text": [
      "plan_list_price Count [(149, 12536656), (99, 4853433), (0, 1498544), (129, 1144459), (180, 682533), (150, 382860), (894, 109879), (100, 80285), (1788, 80066), (536, 43506), (119, 32280), (480, 22977), (1599, 11463), (477, 10847), (35, 7410), (799, 6264), (300, 5828), (120, 5821), (1200, 5486), (298, 5272), (930, 5082), (447, 4348), (134, 3743), (450, 1455), (500, 1185), (50, 1051), (699, 915), (1000, 750), (124, 598), (350, 587), (131, 374), (105, 348), (400, 342), (70, 250), (143, 143), (2000, 118), (1, 113), (1150, 103), (126, 99), (596, 70), (10, 67), (15, 50), (210, 26), (265, 21), (1520, 13), (800, 11), (30, 6), (760, 3), (600, 3), (1825, 2), (44, 1)]\n"
     ]
    }
   ],
   "source": [
    "\n",
    "plt.figure(figsize=(18,6))\n",
    "sns.countplot(x=\"plan_list_price\", data=transactions)\n",
    "plt.ylabel('Count', fontsize=12)\n",
    "plt.xlabel('plan_list_price', fontsize=12)\n",
    "plt.xticks(rotation='vertical')\n",
    "plt.title(\"Frequency of plan_list_price Count in transactions Data Set\", fontsize=12)\n",
    "plt.show()\n",
    "plan_list_price_count = Counter(transactions['plan_list_price']).most_common()\n",
    "print(\"plan_list_price Count \" +str(plan_list_price_count))"
   ]
  },
  {
   "cell_type": "markdown",
   "metadata": {},
   "source": [
    "### actual_amount_paid count"
   ]
  },
  {
   "cell_type": "code",
   "execution_count": 33,
   "metadata": {},
   "outputs": [
    {
     "data": {
      "image/png": "[encoded data removed]",
      "text/plain": [
       "<Figure size 1296x432 with 1 Axes>"
      ]
     },
     "metadata": {
      "needs_background": "light"
     },
     "output_type": "display_data"
    },
    {
     "name": "stdout",
     "output_type": "stream",
     "text": [
      "actual_amount_paid Count [(149, 12460832), (99, 4855208), (0, 1196876), (129, 1174670), (180, 680058), (150, 396210), (119, 355083), (894, 113452), (1788, 83991), (100, 80969), (536, 44805), (480, 23170), (1599, 12086), (477, 10847), (35, 7892), (799, 6465), (300, 5996), (1200, 5526), (298, 5272), (930, 5121), (120, 4948), (134, 4807), (447, 4375), (450, 1501), (500, 1211), (50, 1056), (699, 913), (1000, 783), (350, 606), (124, 598), (131, 572), (105, 374), (400, 351), (70, 250), (143, 143), (2000, 122), (1, 113), (1150, 105), (127, 99), (596, 76), (10, 67), (15, 50), (210, 26), (265, 21), (1520, 13), (800, 11), (30, 6), (41, 5), (760, 4), (600, 3), (1825, 2), (1799, 1), (890, 1), (1802, 1), (45, 1), (849, 1), (1800, 1)]\n"
     ]
    }
   ],
   "source": [
    "\n",
    "plt.figure(figsize=(18,6))\n",
    "sns.countplot(x=\"actual_amount_paid\", data=transactions)\n",
    "plt.ylabel('Count', fontsize=12)\n",
    "plt.xlabel('actual_amount_paid', fontsize=12)\n",
    "plt.xticks(rotation='vertical')\n",
    "plt.title(\"Frequency of actual_amount_paid Count in transactions Data Set\", fontsize=12)\n",
    "plt.show()\n",
    "actual_amount_paid_count = Counter(transactions['actual_amount_paid']).most_common()\n",
    "print(\"actual_amount_paid Count \" +str(actual_amount_paid_count))"
   ]
  },
  {
   "cell_type": "markdown",
   "metadata": {},
   "source": [
    "### is_auto_renew count"
   ]
  },
  {
   "cell_type": "code",
   "execution_count": 34,
   "metadata": {},
   "outputs": [
    {
     "data": {
      "image/png": "[encoded data removed]",
      "text/plain": [
       "<Figure size 288x288 with 1 Axes>"
      ]
     },
     "metadata": {
      "needs_background": "light"
     },
     "output_type": "display_data"
    },
    {
     "name": "stdout",
     "output_type": "stream",
     "text": [
      "is_auto_renew Count [(1, 18357950), (0, 3189796)]\n"
     ]
    }
   ],
   "source": [
    "\n",
    "plt.figure(figsize=(4,4))\n",
    "sns.countplot(x=\"is_auto_renew\", data=transactions)\n",
    "plt.ylabel('Count', fontsize=12)\n",
    "plt.xlabel('is_auto_renew', fontsize=12)\n",
    "plt.xticks(rotation='vertical')\n",
    "plt.title(\"Frequency of is_auto_renew Count in transactions Data Set\", fontsize=6)\n",
    "plt.show()\n",
    "is_auto_renew_count = Counter(transactions['is_auto_renew']).most_common()\n",
    "print(\"is_auto_renew Count \" +str(is_auto_renew_count))"
   ]
  },
  {
   "cell_type": "markdown",
   "metadata": {},
   "source": [
    "### is_cancel count"
   ]
  },
  {
   "cell_type": "code",
   "execution_count": 35,
   "metadata": {},
   "outputs": [
    {
     "data": {
      "image/png": "[encoded data removed]",
      "text/plain": [
       "<Figure size 288x288 with 1 Axes>"
      ]
     },
     "metadata": {
      "needs_background": "light"
     },
     "output_type": "display_data"
    },
    {
     "name": "stdout",
     "output_type": "stream",
     "text": [
      "is_cancel Count [(0, 20690895), (1, 856851)]\n"
     ]
    }
   ],
   "source": [
    "\n",
    "plt.figure(figsize=(4,4))\n",
    "sns.countplot(x=\"is_cancel\", data=transactions)\n",
    "plt.ylabel('Count', fontsize=12)\n",
    "plt.xlabel('is_cancel', fontsize=12)\n",
    "plt.xticks(rotation='vertical')\n",
    "plt.title(\"Frequency of is_cancel Count in transactions Data Set\", fontsize=6)\n",
    "plt.show()\n",
    "is_cancel_count = Counter(transactions['is_cancel']).most_common()\n",
    "print(\"is_cancel Count \" +str(is_cancel_count))"
   ]
  },
  {
   "cell_type": "markdown",
   "metadata": {},
   "source": [
    "Observations :\n",
    "\n",
    "- So there are 21 547 746 entries in transactions data set, as compared to 992 931 entries in training set ( about 5%)\n",
    "- There are 40 payment methods( method class 9 is missing) and majority of users use payment method id 41\n",
    "- There are 37 payment plan days, out of which 30 day plan is very frequent. This is quite understandable as most people will take monthly subscription\n",
    "- There are 51 payment plan, out of which 149 one is most frequent.\n",
    "- Amount paid also have same 51 types and 149 is the most frequent one. Also there is 93% correlation in Payment plan and Actual Amount Paid, so almost same. (see below for correlation)\n",
    "- About 85% users have set their plan for Auto Renewal\n",
    "- About 4% users have canceled the subscription during the plan period"
   ]
  },
  {
   "cell_type": "code",
   "execution_count": 36,
   "metadata": {},
   "outputs": [
    {
     "data": {
      "text/plain": [
       "0.9349402313341029"
      ]
     },
     "execution_count": 36,
     "metadata": {},
     "output_type": "execute_result"
    }
   ],
   "source": [
    "#Correlation between plan_list_price and actual_amount_paid\n",
    "transactions['plan_list_price'].corr(transactions['actual_amount_paid'],method='pearson') "
   ]
  },
  {
   "cell_type": "markdown",
   "metadata": {},
   "source": [
    "Let us see whether msno(users ids) are unique in transaction data set."
   ]
  },
  {
   "cell_type": "code",
   "execution_count": 37,
   "metadata": {},
   "outputs": [
    {
     "data": {
      "text/plain": [
       "1     592101\n",
       "2     355938\n",
       "26    120878\n",
       "3     117118\n",
       "4      82497\n",
       "       ...  \n",
       "46         1\n",
       "59         1\n",
       "58         1\n",
       "55         1\n",
       "71         1\n",
       "Name: msno, Length: 61, dtype: int64"
      ]
     },
     "execution_count": 37,
     "metadata": {},
     "output_type": "execute_result"
    }
   ],
   "source": [
    "#transactions['msno'].value_counts() \n",
    "(transactions['msno'].value_counts().reset_index())['msno'].value_counts()"
   ]
  },
  {
   "cell_type": "markdown",
   "metadata": {},
   "source": [
    "So there are also more than one entries of many users, maybe having different payment plans and different transaction period. "
   ]
  },
  {
   "cell_type": "markdown",
   "metadata": {},
   "source": [
    "<a id=\"5\"></a> <br>\n",
    "## Data Processing\n",
    "\n",
    "\n",
    "To prepare the dataset for modeling churn, we need to encode categorical features to numbers. This means encoding \"Yes\", \"No\" to 0 and 1 so that algorithm can work with the data. This process is called onehot encoding."
   ]
  },
  {
   "cell_type": "markdown",
   "metadata": {},
   "source": [
    "But first of all, let's take all the available data to create ours models."
   ]
  },
  {
   "cell_type": "code",
   "execution_count": 2,
   "metadata": {},
   "outputs": [],
   "source": [
    "train = pd.read_csv('train_v2.csv',dtype={'is_churn':np.int8})\n",
    "test = pd.read_csv('sample_submission_v2.csv',dtype={'is_churn':np.int8})\n",
    "members = pd.read_csv('members_v3.csv',parse_dates=['registration_init_time'],dtype={'city':np.int8,'bd':np.int8,\n",
    "                                                                                         'registered_via':np.int8})\n",
    "transactions = pd.read_csv('transactions_v2.csv',parse_dates=['transaction_date','membership_expire_date'],\n",
    "                          dtype={'payment_method_id':np.int8,'payment_plan_days':np.int8,'plan_list_price':np.int8,\n",
    "                                'actual_amount_paid':np.int8,'is_auto_renew':np.int8,'is_cancel':np.int8})\n",
    "\n",
    "user_log = pd.read_csv('user_logs_v2.csv',parse_dates=['date'],dtype={'num_25':np.int16,'num_50':np.int16,\n",
    "                                    'num_75':np.int16,'num_985':np.int16,'num_100':np.int16,'num_unq':np.int16})"
   ]
  },
  {
   "cell_type": "markdown",
   "metadata": {},
   "source": [
    "Let's merge all our database to create train and test :"
   ]
  },
  {
   "cell_type": "code",
   "execution_count": 3,
   "metadata": {},
   "outputs": [
    {
     "name": "stdout",
     "output_type": "stream",
     "text": [
      "Number of rows & columns (970960, 23)\n",
      "Number of rows & columns (907471, 23)\n"
     ]
    }
   ],
   "source": [
    "train = pd.merge(train,members,on='msno',how='left')\n",
    "test = pd.merge(test,members,on='msno',how='left')\n",
    "train = pd.merge(train,transactions,how='left',on='msno',left_index=True, right_index=True)\n",
    "test = pd.merge(test,transactions,how='left',on='msno',left_index=True, right_index=True,)\n",
    "train = pd.merge(train,user_log,how='left',on='msno',left_index=True, right_index=True)\n",
    "test = pd.merge(test,user_log,how='left',on='msno',left_index=True, right_index=True)\n",
    "\n",
    "del members,transactions,user_log\n",
    "print('Number of rows & columns',train.shape)\n",
    "print('Number of rows & columns',test.shape)\n"
   ]
  },
  {
   "cell_type": "markdown",
   "metadata": {},
   "source": [
    "Now, our data train has 970 960 rows and 23 columns and our data test has 907 471 rows and 23 columns."
   ]
  },
  {
   "cell_type": "code",
   "execution_count": 43,
   "metadata": {},
   "outputs": [
    {
     "data": {
      "text/html": [
       "<div>\n",
       "<style scoped>\n",
       "    .dataframe tbody tr th:only-of-type {\n",
       "        vertical-align: middle;\n",
       "    }\n",
       "\n",
       "    .dataframe tbody tr th {\n",
       "        vertical-align: top;\n",
       "    }\n",
       "\n",
       "    .dataframe thead th {\n",
       "        text-align: right;\n",
       "    }\n",
       "</style>\n",
       "<table border=\"1\" class=\"dataframe\">\n",
       "  <thead>\n",
       "    <tr style=\"text-align: right;\">\n",
       "      <th></th>\n",
       "      <th>msno</th>\n",
       "      <th>is_churn</th>\n",
       "      <th>city</th>\n",
       "      <th>bd</th>\n",
       "      <th>gender</th>\n",
       "      <th>registered_via</th>\n",
       "      <th>registration_init_time</th>\n",
       "      <th>payment_method_id</th>\n",
       "      <th>payment_plan_days</th>\n",
       "      <th>plan_list_price</th>\n",
       "      <th>...</th>\n",
       "      <th>membership_expire_date</th>\n",
       "      <th>is_cancel</th>\n",
       "      <th>date</th>\n",
       "      <th>num_25</th>\n",
       "      <th>num_50</th>\n",
       "      <th>num_75</th>\n",
       "      <th>num_985</th>\n",
       "      <th>num_100</th>\n",
       "      <th>num_unq</th>\n",
       "      <th>total_secs</th>\n",
       "    </tr>\n",
       "  </thead>\n",
       "  <tbody>\n",
       "    <tr>\n",
       "      <th>0</th>\n",
       "      <td>ugx0CjOMzazClkFzU2xasmDZaoIqOUAZPsH1q0teWCg=</td>\n",
       "      <td>1</td>\n",
       "      <td>5.0</td>\n",
       "      <td>28.0</td>\n",
       "      <td>male</td>\n",
       "      <td>3.0</td>\n",
       "      <td>2013-12-23</td>\n",
       "      <td>32</td>\n",
       "      <td>90</td>\n",
       "      <td>42</td>\n",
       "      <td>...</td>\n",
       "      <td>2017-05-04</td>\n",
       "      <td>0</td>\n",
       "      <td>2017-03-31</td>\n",
       "      <td>8</td>\n",
       "      <td>4</td>\n",
       "      <td>0</td>\n",
       "      <td>1</td>\n",
       "      <td>21</td>\n",
       "      <td>18</td>\n",
       "      <td>6309.273</td>\n",
       "    </tr>\n",
       "    <tr>\n",
       "      <th>1</th>\n",
       "      <td>f/NmvEzHfhINFEYZTR05prUdr+E+3+oewvweYz9cCQE=</td>\n",
       "      <td>1</td>\n",
       "      <td>13.0</td>\n",
       "      <td>20.0</td>\n",
       "      <td>male</td>\n",
       "      <td>3.0</td>\n",
       "      <td>2013-12-23</td>\n",
       "      <td>41</td>\n",
       "      <td>30</td>\n",
       "      <td>-107</td>\n",
       "      <td>...</td>\n",
       "      <td>2019-04-12</td>\n",
       "      <td>0</td>\n",
       "      <td>2017-03-30</td>\n",
       "      <td>2</td>\n",
       "      <td>2</td>\n",
       "      <td>1</td>\n",
       "      <td>0</td>\n",
       "      <td>9</td>\n",
       "      <td>11</td>\n",
       "      <td>2390.699</td>\n",
       "    </tr>\n",
       "    <tr>\n",
       "      <th>2</th>\n",
       "      <td>zLo9f73nGGT1p21ltZC3ChiRnAVvgibMyazbCxvWPcg=</td>\n",
       "      <td>1</td>\n",
       "      <td>13.0</td>\n",
       "      <td>18.0</td>\n",
       "      <td>male</td>\n",
       "      <td>3.0</td>\n",
       "      <td>2013-12-27</td>\n",
       "      <td>36</td>\n",
       "      <td>30</td>\n",
       "      <td>-76</td>\n",
       "      <td>...</td>\n",
       "      <td>2017-04-22</td>\n",
       "      <td>0</td>\n",
       "      <td>2017-03-31</td>\n",
       "      <td>52</td>\n",
       "      <td>3</td>\n",
       "      <td>5</td>\n",
       "      <td>3</td>\n",
       "      <td>84</td>\n",
       "      <td>110</td>\n",
       "      <td>23203.337</td>\n",
       "    </tr>\n",
       "    <tr>\n",
       "      <th>3</th>\n",
       "      <td>8iF/+8HY8lJKFrTc7iR9ZYGCG2Ecrogbc2Vy5YhsfhQ=</td>\n",
       "      <td>1</td>\n",
       "      <td>1.0</td>\n",
       "      <td>0.0</td>\n",
       "      <td>NaN</td>\n",
       "      <td>7.0</td>\n",
       "      <td>2014-01-09</td>\n",
       "      <td>36</td>\n",
       "      <td>30</td>\n",
       "      <td>-76</td>\n",
       "      <td>...</td>\n",
       "      <td>2017-03-31</td>\n",
       "      <td>1</td>\n",
       "      <td>2017-03-31</td>\n",
       "      <td>176</td>\n",
       "      <td>4</td>\n",
       "      <td>2</td>\n",
       "      <td>2</td>\n",
       "      <td>19</td>\n",
       "      <td>191</td>\n",
       "      <td>7100.454</td>\n",
       "    </tr>\n",
       "    <tr>\n",
       "      <th>4</th>\n",
       "      <td>K6fja4+jmoZ5xG6BypqX80Uw/XKpMgrEMdG2edFOxnA=</td>\n",
       "      <td>1</td>\n",
       "      <td>13.0</td>\n",
       "      <td>35.0</td>\n",
       "      <td>female</td>\n",
       "      <td>7.0</td>\n",
       "      <td>2014-01-25</td>\n",
       "      <td>41</td>\n",
       "      <td>30</td>\n",
       "      <td>99</td>\n",
       "      <td>...</td>\n",
       "      <td>2017-04-23</td>\n",
       "      <td>0</td>\n",
       "      <td>2017-03-31</td>\n",
       "      <td>2</td>\n",
       "      <td>1</td>\n",
       "      <td>0</td>\n",
       "      <td>1</td>\n",
       "      <td>112</td>\n",
       "      <td>93</td>\n",
       "      <td>28401.558</td>\n",
       "    </tr>\n",
       "  </tbody>\n",
       "</table>\n",
       "<p>5 rows × 23 columns</p>\n",
       "</div>"
      ],
      "text/plain": [
       "                                           msno  is_churn  city    bd  gender  \\\n",
       "0  ugx0CjOMzazClkFzU2xasmDZaoIqOUAZPsH1q0teWCg=         1   5.0  28.0    male   \n",
       "1  f/NmvEzHfhINFEYZTR05prUdr+E+3+oewvweYz9cCQE=         1  13.0  20.0    male   \n",
       "2  zLo9f73nGGT1p21ltZC3ChiRnAVvgibMyazbCxvWPcg=         1  13.0  18.0    male   \n",
       "3  8iF/+8HY8lJKFrTc7iR9ZYGCG2Ecrogbc2Vy5YhsfhQ=         1   1.0   0.0     NaN   \n",
       "4  K6fja4+jmoZ5xG6BypqX80Uw/XKpMgrEMdG2edFOxnA=         1  13.0  35.0  female   \n",
       "\n",
       "   registered_via registration_init_time  payment_method_id  \\\n",
       "0             3.0             2013-12-23                 32   \n",
       "1             3.0             2013-12-23                 41   \n",
       "2             3.0             2013-12-27                 36   \n",
       "3             7.0             2014-01-09                 36   \n",
       "4             7.0             2014-01-25                 41   \n",
       "\n",
       "   payment_plan_days  plan_list_price  ...  membership_expire_date  is_cancel  \\\n",
       "0                 90               42  ...              2017-05-04          0   \n",
       "1                 30             -107  ...              2019-04-12          0   \n",
       "2                 30              -76  ...              2017-04-22          0   \n",
       "3                 30              -76  ...              2017-03-31          1   \n",
       "4                 30               99  ...              2017-04-23          0   \n",
       "\n",
       "        date num_25  num_50 num_75  num_985  num_100  num_unq  total_secs  \n",
       "0 2017-03-31      8       4      0        1       21       18    6309.273  \n",
       "1 2017-03-30      2       2      1        0        9       11    2390.699  \n",
       "2 2017-03-31     52       3      5        3       84      110   23203.337  \n",
       "3 2017-03-31    176       4      2        2       19      191    7100.454  \n",
       "4 2017-03-31      2       1      0        1      112       93   28401.558  \n",
       "\n",
       "[5 rows x 23 columns]"
      ]
     },
     "execution_count": 43,
     "metadata": {},
     "output_type": "execute_result"
    }
   ],
   "source": [
    "train.head()"
   ]
  },
  {
   "cell_type": "code",
   "execution_count": 44,
   "metadata": {},
   "outputs": [
    {
     "data": {
      "text/html": [
       "<div>\n",
       "<style scoped>\n",
       "    .dataframe tbody tr th:only-of-type {\n",
       "        vertical-align: middle;\n",
       "    }\n",
       "\n",
       "    .dataframe tbody tr th {\n",
       "        vertical-align: top;\n",
       "    }\n",
       "\n",
       "    .dataframe thead th {\n",
       "        text-align: right;\n",
       "    }\n",
       "</style>\n",
       "<table border=\"1\" class=\"dataframe\">\n",
       "  <thead>\n",
       "    <tr style=\"text-align: right;\">\n",
       "      <th></th>\n",
       "      <th>msno</th>\n",
       "      <th>is_churn</th>\n",
       "      <th>city</th>\n",
       "      <th>bd</th>\n",
       "      <th>gender</th>\n",
       "      <th>registered_via</th>\n",
       "      <th>registration_init_time</th>\n",
       "      <th>payment_method_id</th>\n",
       "      <th>payment_plan_days</th>\n",
       "      <th>plan_list_price</th>\n",
       "      <th>...</th>\n",
       "      <th>membership_expire_date</th>\n",
       "      <th>is_cancel</th>\n",
       "      <th>date</th>\n",
       "      <th>num_25</th>\n",
       "      <th>num_50</th>\n",
       "      <th>num_75</th>\n",
       "      <th>num_985</th>\n",
       "      <th>num_100</th>\n",
       "      <th>num_unq</th>\n",
       "      <th>total_secs</th>\n",
       "    </tr>\n",
       "  </thead>\n",
       "  <tbody>\n",
       "    <tr>\n",
       "      <th>0</th>\n",
       "      <td>4n+fXlyJvfQnTeKXTWT507Ll4JVYGrOC8LHCfwBmPE4=</td>\n",
       "      <td>0</td>\n",
       "      <td>1.0</td>\n",
       "      <td>0.0</td>\n",
       "      <td>NaN</td>\n",
       "      <td>7.0</td>\n",
       "      <td>2015-07-18</td>\n",
       "      <td>32</td>\n",
       "      <td>90</td>\n",
       "      <td>42</td>\n",
       "      <td>...</td>\n",
       "      <td>2017-05-04</td>\n",
       "      <td>0</td>\n",
       "      <td>2017-03-31</td>\n",
       "      <td>8</td>\n",
       "      <td>4</td>\n",
       "      <td>0</td>\n",
       "      <td>1</td>\n",
       "      <td>21</td>\n",
       "      <td>18</td>\n",
       "      <td>6309.273</td>\n",
       "    </tr>\n",
       "    <tr>\n",
       "      <th>1</th>\n",
       "      <td>aNmbC1GvFUxQyQUidCVmfbQ0YeCuwkPzEdQ0RwWyeZM=</td>\n",
       "      <td>0</td>\n",
       "      <td>4.0</td>\n",
       "      <td>28.0</td>\n",
       "      <td>male</td>\n",
       "      <td>9.0</td>\n",
       "      <td>2005-10-30</td>\n",
       "      <td>41</td>\n",
       "      <td>30</td>\n",
       "      <td>-107</td>\n",
       "      <td>...</td>\n",
       "      <td>2019-04-12</td>\n",
       "      <td>0</td>\n",
       "      <td>2017-03-30</td>\n",
       "      <td>2</td>\n",
       "      <td>2</td>\n",
       "      <td>1</td>\n",
       "      <td>0</td>\n",
       "      <td>9</td>\n",
       "      <td>11</td>\n",
       "      <td>2390.699</td>\n",
       "    </tr>\n",
       "    <tr>\n",
       "      <th>2</th>\n",
       "      <td>rFC9eSG/tMuzpre6cwcMLZHEYM89xY02qcz7HL4//jc=</td>\n",
       "      <td>0</td>\n",
       "      <td>4.0</td>\n",
       "      <td>34.0</td>\n",
       "      <td>male</td>\n",
       "      <td>7.0</td>\n",
       "      <td>2014-11-01</td>\n",
       "      <td>36</td>\n",
       "      <td>30</td>\n",
       "      <td>-76</td>\n",
       "      <td>...</td>\n",
       "      <td>2017-04-22</td>\n",
       "      <td>0</td>\n",
       "      <td>2017-03-31</td>\n",
       "      <td>52</td>\n",
       "      <td>3</td>\n",
       "      <td>5</td>\n",
       "      <td>3</td>\n",
       "      <td>84</td>\n",
       "      <td>110</td>\n",
       "      <td>23203.337</td>\n",
       "    </tr>\n",
       "    <tr>\n",
       "      <th>3</th>\n",
       "      <td>WZ59dLyrQcE7ft06MZ5dj40BnlYQY7PHgg/54+HaCSE=</td>\n",
       "      <td>0</td>\n",
       "      <td>NaN</td>\n",
       "      <td>NaN</td>\n",
       "      <td>NaN</td>\n",
       "      <td>NaN</td>\n",
       "      <td>NaT</td>\n",
       "      <td>36</td>\n",
       "      <td>30</td>\n",
       "      <td>-76</td>\n",
       "      <td>...</td>\n",
       "      <td>2017-03-31</td>\n",
       "      <td>1</td>\n",
       "      <td>2017-03-31</td>\n",
       "      <td>176</td>\n",
       "      <td>4</td>\n",
       "      <td>2</td>\n",
       "      <td>2</td>\n",
       "      <td>19</td>\n",
       "      <td>191</td>\n",
       "      <td>7100.454</td>\n",
       "    </tr>\n",
       "    <tr>\n",
       "      <th>4</th>\n",
       "      <td>aky/Iv8hMp1/V/yQHLtaVuEmmAxkB5GuasQZePJ7NU4=</td>\n",
       "      <td>0</td>\n",
       "      <td>1.0</td>\n",
       "      <td>0.0</td>\n",
       "      <td>NaN</td>\n",
       "      <td>13.0</td>\n",
       "      <td>2016-12-22</td>\n",
       "      <td>41</td>\n",
       "      <td>30</td>\n",
       "      <td>99</td>\n",
       "      <td>...</td>\n",
       "      <td>2017-04-23</td>\n",
       "      <td>0</td>\n",
       "      <td>2017-03-31</td>\n",
       "      <td>2</td>\n",
       "      <td>1</td>\n",
       "      <td>0</td>\n",
       "      <td>1</td>\n",
       "      <td>112</td>\n",
       "      <td>93</td>\n",
       "      <td>28401.558</td>\n",
       "    </tr>\n",
       "  </tbody>\n",
       "</table>\n",
       "<p>5 rows × 23 columns</p>\n",
       "</div>"
      ],
      "text/plain": [
       "                                           msno  is_churn  city    bd gender  \\\n",
       "0  4n+fXlyJvfQnTeKXTWT507Ll4JVYGrOC8LHCfwBmPE4=         0   1.0   0.0    NaN   \n",
       "1  aNmbC1GvFUxQyQUidCVmfbQ0YeCuwkPzEdQ0RwWyeZM=         0   4.0  28.0   male   \n",
       "2  rFC9eSG/tMuzpre6cwcMLZHEYM89xY02qcz7HL4//jc=         0   4.0  34.0   male   \n",
       "3  WZ59dLyrQcE7ft06MZ5dj40BnlYQY7PHgg/54+HaCSE=         0   NaN   NaN    NaN   \n",
       "4  aky/Iv8hMp1/V/yQHLtaVuEmmAxkB5GuasQZePJ7NU4=         0   1.0   0.0    NaN   \n",
       "\n",
       "   registered_via registration_init_time  payment_method_id  \\\n",
       "0             7.0             2015-07-18                 32   \n",
       "1             9.0             2005-10-30                 41   \n",
       "2             7.0             2014-11-01                 36   \n",
       "3             NaN                    NaT                 36   \n",
       "4            13.0             2016-12-22                 41   \n",
       "\n",
       "   payment_plan_days  plan_list_price  ...  membership_expire_date  is_cancel  \\\n",
       "0                 90               42  ...              2017-05-04          0   \n",
       "1                 30             -107  ...              2019-04-12          0   \n",
       "2                 30              -76  ...              2017-04-22          0   \n",
       "3                 30              -76  ...              2017-03-31          1   \n",
       "4                 30               99  ...              2017-04-23          0   \n",
       "\n",
       "        date num_25  num_50 num_75  num_985  num_100  num_unq  total_secs  \n",
       "0 2017-03-31      8       4      0        1       21       18    6309.273  \n",
       "1 2017-03-30      2       2      1        0        9       11    2390.699  \n",
       "2 2017-03-31     52       3      5        3       84      110   23203.337  \n",
       "3 2017-03-31    176       4      2        2       19      191    7100.454  \n",
       "4 2017-03-31      2       1      0        1      112       93   28401.558  \n",
       "\n",
       "[5 rows x 23 columns]"
      ]
     },
     "execution_count": 44,
     "metadata": {},
     "output_type": "execute_result"
    }
   ],
   "source": [
    "test.head()"
   ]
  },
  {
   "cell_type": "code",
   "execution_count": 78,
   "metadata": {},
   "outputs": [
    {
     "data": {
      "text/plain": [
       "Text(0.5, 0, 'The subscription within 30 days of expiration is True/False')"
      ]
     },
     "execution_count": 78,
     "metadata": {},
     "output_type": "execute_result"
    },
    {
     "data": {
      "image/png": "[encoded data removed]",
      "text/plain": [
       "<Figure size 576x432 with 1 Axes>"
      ]
     },
     "metadata": {
      "needs_background": "light"
     },
     "output_type": "display_data"
    }
   ],
   "source": [
    "plt.figure(figsize=(8,6))\n",
    "sns.set_style('ticks')\n",
    "sns.countplot(train['is_churn'],palette='summer')\n",
    "plt.xlabel('The subscription within 30 days of expiration is True/False')"
   ]
  },
  {
   "cell_type": "markdown",
   "metadata": {},
   "source": [
    "Like I said earlier, our Y is very unbalanced !\n",
    "\n",
    "### date feature\n",
    "\n",
    "Let's check out all our date variable :"
   ]
  },
  {
   "cell_type": "code",
   "execution_count": 42,
   "metadata": {},
   "outputs": [
    {
     "data": {
      "text/html": [
       "<div>\n",
       "<style scoped>\n",
       "    .dataframe tbody tr th:only-of-type {\n",
       "        vertical-align: middle;\n",
       "    }\n",
       "\n",
       "    .dataframe tbody tr th {\n",
       "        vertical-align: top;\n",
       "    }\n",
       "\n",
       "    .dataframe thead th {\n",
       "        text-align: right;\n",
       "    }\n",
       "</style>\n",
       "<table border=\"1\" class=\"dataframe\">\n",
       "  <thead>\n",
       "    <tr style=\"text-align: right;\">\n",
       "      <th></th>\n",
       "      <th>registration_init_time</th>\n",
       "      <th>transaction_date</th>\n",
       "      <th>membership_expire_date</th>\n",
       "      <th>date</th>\n",
       "    </tr>\n",
       "  </thead>\n",
       "  <tbody>\n",
       "    <tr>\n",
       "      <th>count</th>\n",
       "      <td>860967</td>\n",
       "      <td>970960</td>\n",
       "      <td>970960</td>\n",
       "      <td>970960</td>\n",
       "    </tr>\n",
       "    <tr>\n",
       "      <th>unique</th>\n",
       "      <td>4749</td>\n",
       "      <td>820</td>\n",
       "      <td>1818</td>\n",
       "      <td>31</td>\n",
       "    </tr>\n",
       "    <tr>\n",
       "      <th>top</th>\n",
       "      <td>2015-10-09 00:00:00</td>\n",
       "      <td>2017-03-31 00:00:00</td>\n",
       "      <td>2017-04-30 00:00:00</td>\n",
       "      <td>2017-03-30 00:00:00</td>\n",
       "    </tr>\n",
       "    <tr>\n",
       "      <th>freq</th>\n",
       "      <td>1575</td>\n",
       "      <td>130414</td>\n",
       "      <td>79283</td>\n",
       "      <td>32331</td>\n",
       "    </tr>\n",
       "    <tr>\n",
       "      <th>first</th>\n",
       "      <td>2004-03-26 00:00:00</td>\n",
       "      <td>2015-01-01 00:00:00</td>\n",
       "      <td>2016-04-20 00:00:00</td>\n",
       "      <td>2017-03-01 00:00:00</td>\n",
       "    </tr>\n",
       "    <tr>\n",
       "      <th>last</th>\n",
       "      <td>2017-04-24 00:00:00</td>\n",
       "      <td>2017-03-31 00:00:00</td>\n",
       "      <td>2036-10-15 00:00:00</td>\n",
       "      <td>2017-03-31 00:00:00</td>\n",
       "    </tr>\n",
       "  </tbody>\n",
       "</table>\n",
       "</div>"
      ],
      "text/plain": [
       "       registration_init_time     transaction_date membership_expire_date  \\\n",
       "count                  860967               970960                 970960   \n",
       "unique                   4749                  820                   1818   \n",
       "top       2015-10-09 00:00:00  2017-03-31 00:00:00    2017-04-30 00:00:00   \n",
       "freq                     1575               130414                  79283   \n",
       "first     2004-03-26 00:00:00  2015-01-01 00:00:00    2016-04-20 00:00:00   \n",
       "last      2017-04-24 00:00:00  2017-03-31 00:00:00    2036-10-15 00:00:00   \n",
       "\n",
       "                       date  \n",
       "count                970960  \n",
       "unique                   31  \n",
       "top     2017-03-30 00:00:00  \n",
       "freq                  32331  \n",
       "first   2017-03-01 00:00:00  \n",
       "last    2017-03-31 00:00:00  "
      ]
     },
     "execution_count": 42,
     "metadata": {},
     "output_type": "execute_result"
    }
   ],
   "source": [
    "train[['registration_init_time' ,'transaction_date','membership_expire_date','date']].describe()"
   ]
  },
  {
   "cell_type": "code",
   "execution_count": 45,
   "metadata": {},
   "outputs": [
    {
     "data": {
      "text/plain": [
       "registration_init_time    109993\n",
       "transaction_date               0\n",
       "membership_expire_date         0\n",
       "date                           0\n",
       "dtype: int64"
      ]
     },
     "execution_count": 45,
     "metadata": {},
     "output_type": "execute_result"
    }
   ],
   "source": [
    "train[['registration_init_time' ,'transaction_date','membership_expire_date','date']].isnull().sum()"
   ]
  },
  {
   "cell_type": "code",
   "execution_count": 46,
   "metadata": {},
   "outputs": [
    {
     "data": {
      "text/plain": [
       "registration_init_time    112381\n",
       "transaction_date               0\n",
       "membership_expire_date         0\n",
       "date                           0\n",
       "dtype: int64"
      ]
     },
     "execution_count": 46,
     "metadata": {},
     "output_type": "execute_result"
    }
   ],
   "source": [
    "test[['registration_init_time' ,'transaction_date','membership_expire_date','date']].isnull().sum()\n"
   ]
  },
  {
   "cell_type": "markdown",
   "metadata": {},
   "source": [
    "We see that registration_init_time have some missing values (NA) in both our train and test set. To deal with that, we will fill the missing values with the most commun date in registration_init_time. Above, we could see that the mos commun date is 2015-10-09 so let's do it ! "
   ]
  },
  {
   "cell_type": "code",
   "execution_count": 4,
   "metadata": {},
   "outputs": [],
   "source": [
    "train['registration_init_time'] = train['registration_init_time'].fillna(value=pd.to_datetime('09/10/2015'))\n",
    "test['registration_init_time'] = test['registration_init_time'].fillna(value=pd.to_datetime('09/10/2015'))"
   ]
  },
  {
   "cell_type": "markdown",
   "metadata": {},
   "source": [
    "Now let's change those variable so they could be used by machine learning packages. In the actual state (dd/mm/yy), that's quite difficult to interpret for the majority of the machine learning packages so we need to do some transformations :"
   ]
  },
  {
   "cell_type": "code",
   "execution_count": 5,
   "metadata": {},
   "outputs": [],
   "source": [
    "def date_feature(df):\n",
    "    \n",
    "    col = ['registration_init_time' ,'transaction_date','membership_expire_date','date']\n",
    "    var = ['reg','trans','mem_exp','user_']\n",
    "    #df['duration'] = (df[col[1]] - df[col[0]]).dt.days \n",
    "    \n",
    "    for i ,j in zip(col,var):\n",
    "        df[j+'_day'] = df[i].dt.day.astype('uint8')\n",
    "        df[j+'_weekday'] = df[i].dt.weekday.astype('uint8')        \n",
    "        df[j+'_month'] = df[i].dt.month.astype('uint8') \n",
    "        df[j+'_year'] =df[i].dt.year.astype('uint16') \n",
    "\n",
    "date_feature(train)\n",
    "date_feature(test)"
   ]
  },
  {
   "cell_type": "code",
   "execution_count": 49,
   "metadata": {},
   "outputs": [
    {
     "data": {
      "text/html": [
       "<div>\n",
       "<style scoped>\n",
       "    .dataframe tbody tr th:only-of-type {\n",
       "        vertical-align: middle;\n",
       "    }\n",
       "\n",
       "    .dataframe tbody tr th {\n",
       "        vertical-align: top;\n",
       "    }\n",
       "\n",
       "    .dataframe thead th {\n",
       "        text-align: right;\n",
       "    }\n",
       "</style>\n",
       "<table border=\"1\" class=\"dataframe\">\n",
       "  <thead>\n",
       "    <tr style=\"text-align: right;\">\n",
       "      <th></th>\n",
       "      <th>msno</th>\n",
       "      <th>is_churn</th>\n",
       "      <th>city</th>\n",
       "      <th>bd</th>\n",
       "      <th>gender</th>\n",
       "      <th>registered_via</th>\n",
       "      <th>registration_init_time</th>\n",
       "      <th>payment_method_id</th>\n",
       "      <th>payment_plan_days</th>\n",
       "      <th>plan_list_price</th>\n",
       "      <th>...</th>\n",
       "      <th>trans_month</th>\n",
       "      <th>trans_year</th>\n",
       "      <th>mem_exp_day</th>\n",
       "      <th>mem_exp_weekday</th>\n",
       "      <th>mem_exp_month</th>\n",
       "      <th>mem_exp_year</th>\n",
       "      <th>user__day</th>\n",
       "      <th>user__weekday</th>\n",
       "      <th>user__month</th>\n",
       "      <th>user__year</th>\n",
       "    </tr>\n",
       "  </thead>\n",
       "  <tbody>\n",
       "    <tr>\n",
       "      <th>0</th>\n",
       "      <td>ugx0CjOMzazClkFzU2xasmDZaoIqOUAZPsH1q0teWCg=</td>\n",
       "      <td>1</td>\n",
       "      <td>5.0</td>\n",
       "      <td>28.0</td>\n",
       "      <td>male</td>\n",
       "      <td>3.0</td>\n",
       "      <td>2013-12-23</td>\n",
       "      <td>32</td>\n",
       "      <td>90</td>\n",
       "      <td>42</td>\n",
       "      <td>...</td>\n",
       "      <td>1</td>\n",
       "      <td>2017</td>\n",
       "      <td>4</td>\n",
       "      <td>3</td>\n",
       "      <td>5</td>\n",
       "      <td>2017</td>\n",
       "      <td>31</td>\n",
       "      <td>4</td>\n",
       "      <td>3</td>\n",
       "      <td>2017</td>\n",
       "    </tr>\n",
       "    <tr>\n",
       "      <th>1</th>\n",
       "      <td>f/NmvEzHfhINFEYZTR05prUdr+E+3+oewvweYz9cCQE=</td>\n",
       "      <td>1</td>\n",
       "      <td>13.0</td>\n",
       "      <td>20.0</td>\n",
       "      <td>male</td>\n",
       "      <td>3.0</td>\n",
       "      <td>2013-12-23</td>\n",
       "      <td>41</td>\n",
       "      <td>30</td>\n",
       "      <td>-107</td>\n",
       "      <td>...</td>\n",
       "      <td>8</td>\n",
       "      <td>2015</td>\n",
       "      <td>12</td>\n",
       "      <td>4</td>\n",
       "      <td>4</td>\n",
       "      <td>2019</td>\n",
       "      <td>30</td>\n",
       "      <td>3</td>\n",
       "      <td>3</td>\n",
       "      <td>2017</td>\n",
       "    </tr>\n",
       "    <tr>\n",
       "      <th>2</th>\n",
       "      <td>zLo9f73nGGT1p21ltZC3ChiRnAVvgibMyazbCxvWPcg=</td>\n",
       "      <td>1</td>\n",
       "      <td>13.0</td>\n",
       "      <td>18.0</td>\n",
       "      <td>male</td>\n",
       "      <td>3.0</td>\n",
       "      <td>2013-12-27</td>\n",
       "      <td>36</td>\n",
       "      <td>30</td>\n",
       "      <td>-76</td>\n",
       "      <td>...</td>\n",
       "      <td>3</td>\n",
       "      <td>2017</td>\n",
       "      <td>22</td>\n",
       "      <td>5</td>\n",
       "      <td>4</td>\n",
       "      <td>2017</td>\n",
       "      <td>31</td>\n",
       "      <td>4</td>\n",
       "      <td>3</td>\n",
       "      <td>2017</td>\n",
       "    </tr>\n",
       "    <tr>\n",
       "      <th>3</th>\n",
       "      <td>8iF/+8HY8lJKFrTc7iR9ZYGCG2Ecrogbc2Vy5YhsfhQ=</td>\n",
       "      <td>1</td>\n",
       "      <td>1.0</td>\n",
       "      <td>0.0</td>\n",
       "      <td>NaN</td>\n",
       "      <td>7.0</td>\n",
       "      <td>2014-01-09</td>\n",
       "      <td>36</td>\n",
       "      <td>30</td>\n",
       "      <td>-76</td>\n",
       "      <td>...</td>\n",
       "      <td>3</td>\n",
       "      <td>2017</td>\n",
       "      <td>31</td>\n",
       "      <td>4</td>\n",
       "      <td>3</td>\n",
       "      <td>2017</td>\n",
       "      <td>31</td>\n",
       "      <td>4</td>\n",
       "      <td>3</td>\n",
       "      <td>2017</td>\n",
       "    </tr>\n",
       "    <tr>\n",
       "      <th>4</th>\n",
       "      <td>K6fja4+jmoZ5xG6BypqX80Uw/XKpMgrEMdG2edFOxnA=</td>\n",
       "      <td>1</td>\n",
       "      <td>13.0</td>\n",
       "      <td>35.0</td>\n",
       "      <td>female</td>\n",
       "      <td>7.0</td>\n",
       "      <td>2014-01-25</td>\n",
       "      <td>41</td>\n",
       "      <td>30</td>\n",
       "      <td>99</td>\n",
       "      <td>...</td>\n",
       "      <td>3</td>\n",
       "      <td>2017</td>\n",
       "      <td>23</td>\n",
       "      <td>6</td>\n",
       "      <td>4</td>\n",
       "      <td>2017</td>\n",
       "      <td>31</td>\n",
       "      <td>4</td>\n",
       "      <td>3</td>\n",
       "      <td>2017</td>\n",
       "    </tr>\n",
       "  </tbody>\n",
       "</table>\n",
       "<p>5 rows × 39 columns</p>\n",
       "</div>"
      ],
      "text/plain": [
       "                                           msno  is_churn  city    bd  gender  \\\n",
       "0  ugx0CjOMzazClkFzU2xasmDZaoIqOUAZPsH1q0teWCg=         1   5.0  28.0    male   \n",
       "1  f/NmvEzHfhINFEYZTR05prUdr+E+3+oewvweYz9cCQE=         1  13.0  20.0    male   \n",
       "2  zLo9f73nGGT1p21ltZC3ChiRnAVvgibMyazbCxvWPcg=         1  13.0  18.0    male   \n",
       "3  8iF/+8HY8lJKFrTc7iR9ZYGCG2Ecrogbc2Vy5YhsfhQ=         1   1.0   0.0     NaN   \n",
       "4  K6fja4+jmoZ5xG6BypqX80Uw/XKpMgrEMdG2edFOxnA=         1  13.0  35.0  female   \n",
       "\n",
       "   registered_via registration_init_time  payment_method_id  \\\n",
       "0             3.0             2013-12-23                 32   \n",
       "1             3.0             2013-12-23                 41   \n",
       "2             3.0             2013-12-27                 36   \n",
       "3             7.0             2014-01-09                 36   \n",
       "4             7.0             2014-01-25                 41   \n",
       "\n",
       "   payment_plan_days  plan_list_price  ...  trans_month  trans_year  \\\n",
       "0                 90               42  ...            1        2017   \n",
       "1                 30             -107  ...            8        2015   \n",
       "2                 30              -76  ...            3        2017   \n",
       "3                 30              -76  ...            3        2017   \n",
       "4                 30               99  ...            3        2017   \n",
       "\n",
       "  mem_exp_day mem_exp_weekday  mem_exp_month mem_exp_year  user__day  \\\n",
       "0           4               3              5         2017         31   \n",
       "1          12               4              4         2019         30   \n",
       "2          22               5              4         2017         31   \n",
       "3          31               4              3         2017         31   \n",
       "4          23               6              4         2017         31   \n",
       "\n",
       "   user__weekday  user__month  user__year  \n",
       "0              4            3        2017  \n",
       "1              3            3        2017  \n",
       "2              4            3        2017  \n",
       "3              4            3        2017  \n",
       "4              4            3        2017  \n",
       "\n",
       "[5 rows x 39 columns]"
      ]
     },
     "execution_count": 49,
     "metadata": {},
     "output_type": "execute_result"
    }
   ],
   "source": [
    "train.head()"
   ]
  },
  {
   "cell_type": "markdown",
   "metadata": {},
   "source": [
    "Now, we can see that our date variables are integer with the day, the month and so on. Quite handy for machine learning packages !"
   ]
  },
  {
   "cell_type": "markdown",
   "metadata": {},
   "source": [
    "On remplace les NA par les valeurs les plus présentes dans les variables suivantes :"
   ]
  },
  {
   "cell_type": "code",
   "execution_count": 6,
   "metadata": {},
   "outputs": [],
   "source": [
    "col = [ 'city', 'bd', 'gender', 'registered_via']\n",
    "def missing(df,columns):\n",
    "    col = columns\n",
    "    for i in col:\n",
    "        df[i].fillna(df[i].mode()[0],inplace=True)\n",
    "        \n",
    "missing(train,col)\n",
    "missing(test,col)"
   ]
  },
  {
   "cell_type": "code",
   "execution_count": 53,
   "metadata": {},
   "outputs": [
    {
     "data": {
      "text/plain": [
       "male      786616\n",
       "female    184344\n",
       "Name: gender, dtype: int64"
      ]
     },
     "execution_count": 53,
     "metadata": {},
     "output_type": "execute_result"
    }
   ],
   "source": [
    "train.gender.value_counts()"
   ]
  },
  {
   "cell_type": "code",
   "execution_count": null,
   "metadata": {},
   "outputs": [],
   "source": []
  },
  {
   "cell_type": "code",
   "execution_count": 55,
   "metadata": {},
   "outputs": [
    {
     "data": {
      "image/png": "[encoded data removed]",
      "text/plain": [
       "<Figure size 1152x864 with 2 Axes>"
      ]
     },
     "metadata": {
      "needs_background": "light"
     },
     "output_type": "display_data"
    }
   ],
   "source": [
    "cor = train.corr()\n",
    "plt.figure(figsize=(16,12))\n",
    "sns.heatmap(cor,cmap='Set1',annot=False)\n",
    "plt.xticks(rotation=45);"
   ]
  },
  {
   "cell_type": "markdown",
   "metadata": {},
   "source": [
    "### Encoder\n",
    "\n",
    "Let's encode our variable gender with LabelEncoder to obtain something more handy :"
   ]
  },
  {
   "cell_type": "code",
   "execution_count": 9,
   "metadata": {},
   "outputs": [],
   "source": [
    "from sklearn.preprocessing import LabelEncoder\n",
    "\n",
    "le = LabelEncoder()\n",
    "train['gender'] = le.fit_transform(train['gender'])\n",
    "test['gender'] = le.fit_transform(test['gender'])"
   ]
  },
  {
   "cell_type": "markdown",
   "metadata": {},
   "source": [
    "## One hot encoding\n",
    "\n",
    "This step aim to dummyfier our categorical variables like 'city', 'gender' or 'registered_via' :"
   ]
  },
  {
   "cell_type": "code",
   "execution_count": 10,
   "metadata": {},
   "outputs": [
    {
     "name": "stdout",
     "output_type": "stream",
     "text": [
      "Categorical columns in dataset ['city', 'gender', 'registered_via']\n",
      "(970960, 61)\n",
      "Categorical columns in dataset ['city', 'gender', 'registered_via']\n",
      "(907471, 61)\n"
     ]
    }
   ],
   "source": [
    "def OHE(df):\n",
    "    col = ['city','gender','registered_via']\n",
    "    print('Categorical columns in dataset',col)\n",
    "    \n",
    "    c2,c3 = [],{}\n",
    "    for c in col:\n",
    "        if df[c].nunique()>2 :\n",
    "            c2.append(c)\n",
    "            c3[c] = 'ohe_'+c\n",
    "    \n",
    "    df = pd.get_dummies(df,columns=c2,drop_first=True,prefix=c3)\n",
    "    print(df.shape)\n",
    "    return df\n",
    "train1 = OHE(train)\n",
    "test1 = OHE(test)"
   ]
  },
  {
   "cell_type": "markdown",
   "metadata": {},
   "source": [
    "Let's see all the variable in our train set :"
   ]
  },
  {
   "cell_type": "code",
   "execution_count": 58,
   "metadata": {},
   "outputs": [
    {
     "data": {
      "text/plain": [
       "Index(['msno', 'is_churn', 'bd', 'gender', 'registration_init_time',\n",
       "       'payment_method_id', 'payment_plan_days', 'plan_list_price',\n",
       "       'actual_amount_paid', 'is_auto_renew', 'transaction_date',\n",
       "       'membership_expire_date', 'is_cancel', 'date', 'num_25', 'num_50',\n",
       "       'num_75', 'num_985', 'num_100', 'num_unq', 'total_secs', 'reg_day',\n",
       "       'reg_weekday', 'reg_month', 'reg_year', 'trans_day', 'trans_weekday',\n",
       "       'trans_month', 'trans_year', 'mem_exp_day', 'mem_exp_weekday',\n",
       "       'mem_exp_month', 'mem_exp_year', 'user__day', 'user__weekday',\n",
       "       'user__month', 'user__year', 'ohe_city_3.0', 'ohe_city_4.0',\n",
       "       'ohe_city_5.0', 'ohe_city_6.0', 'ohe_city_7.0', 'ohe_city_8.0',\n",
       "       'ohe_city_9.0', 'ohe_city_10.0', 'ohe_city_11.0', 'ohe_city_12.0',\n",
       "       'ohe_city_13.0', 'ohe_city_14.0', 'ohe_city_15.0', 'ohe_city_16.0',\n",
       "       'ohe_city_17.0', 'ohe_city_18.0', 'ohe_city_19.0', 'ohe_city_20.0',\n",
       "       'ohe_city_21.0', 'ohe_city_22.0', 'ohe_registered_via_4.0',\n",
       "       'ohe_registered_via_7.0', 'ohe_registered_via_9.0',\n",
       "       'ohe_registered_via_13.0'],\n",
       "      dtype='object')"
      ]
     },
     "execution_count": 58,
     "metadata": {},
     "output_type": "execute_result"
    }
   ],
   "source": [
    "train1.columns"
   ]
  },
  {
   "cell_type": "markdown",
   "metadata": {},
   "source": [
    "### Split our data sets :"
   ]
  },
  {
   "cell_type": "code",
   "execution_count": 11,
   "metadata": {},
   "outputs": [],
   "source": [
    "unwanted = ['msno','is_churn','registration_init_time','transaction_date','membership_expire_date','date']\n",
    "\n",
    "X = train1.drop(unwanted,axis=1)\n",
    "y = train1['is_churn'].astype('category')\n",
    "x_test = test1.drop(unwanted,axis=1)"
   ]
  },
  {
   "cell_type": "markdown",
   "metadata": {},
   "source": [
    "<a id=\"6\"></a> <br>\n",
    "## Models selection :"
   ]
  },
  {
   "cell_type": "code",
   "execution_count": null,
   "metadata": {},
   "outputs": [],
   "source": [
    "from sklearn.model_selection import StratifiedKFold\n",
    "from sklearn.model_selection import cross_validate\n",
    "from sklearn.model_selection import cross_val_score\n",
    "from sklearn.ensemble import RandomForestClassifier\n",
    "from sklearn.tree import DecisionTreeClassifier\n",
    "from sklearn.ensemble import GradientBoostingClassifier\n",
    "import sklearn.model_selection as ms\n",
    "from lightgbm import LGBMClassifier\n",
    "import xgboost as xgb\n",
    "from sklearn.ensemble import ExtraTreesClassifier\n",
    "from sklearn.ensemble import VotingClassifier\n",
    "from sklearn.model_selection import StratifiedKFold\n",
    "\n",
    "from sklearn.svm import LinearSVC\n",
    "from sklearn.linear_model import LogisticRegression\n",
    "\n",
    "\n",
    "from sklearn import tree\n",
    "from sklearn import metrics\n",
    "from sklearn import ensemble\n",
    "from sklearn import linear_model \n",
    "from sklearn import naive_bayes \n",
    "\n",
    "\n",
    "\n",
    "KFold = StratifiedKFold(n_splits=3, random_state=42)\n",
    "scores = {}\n",
    "\n",
    "def score_model(model):\n",
    "    return cross_val_score(model, X, y, scoring='roc_auc', cv = KFold)\n",
    "\n",
    "\n",
    "\n",
    "# time: 10s\n",
    "scores['tree'] = score_model(tree.DecisionTreeClassifier())\n",
    "\n",
    "# time: 9s\n",
    "scores['extra_tree'] = score_model(ensemble.ExtraTreesClassifier())\n",
    "\n",
    "# time: 7s\n",
    "scores['forest'] = score_model(ensemble.RandomForestClassifier())\n",
    "\n",
    "# time: 33s\n",
    "scores['ada_boost'] = score_model(ensemble.AdaBoostClassifier())\n",
    "\n",
    "# time: 1min\n",
    "scores['bagging'] = score_model(ensemble.BaggingClassifier())\n",
    "\n",
    "# time: 2min30s\n",
    "scores['grad_boost'] = score_model(ensemble.GradientBoostingClassifier())\n",
    "\n",
    "# time: 49s\n",
    "scores['ridge'] = score_model(linear_model.RidgeClassifier())\n",
    "\n",
    "# time: 4s\n",
    "scores['passive'] = score_model(linear_model.PassiveAggressiveClassifier())\n",
    "\n",
    "# time: 4s\n",
    "scores['sgd'] = score_model(linear_model.SGDClassifier())\n",
    "\n",
    "# time: 3s\n",
    "#scores['gaussian'] = score_model(naive_bayes.GaussianNB())\n",
    "\n",
    "# time: 4min\n",
    "scores['xgboost'] = score_model(xgb.XGBClassifier())\n",
    "\n",
    "scores['LightGBM'] = score_model(LGBMClassifier())\n",
    "\n",
    "scores['LinearSVC'] = score_model(LinearSVC())\n",
    "\n",
    "scores['LR'] = score_model(LogisticRegression())"
   ]
  },
  {
   "cell_type": "code",
   "execution_count": 64,
   "metadata": {},
   "outputs": [
    {
     "name": "stdout",
     "output_type": "stream",
     "text": [
      "Model scores\n",
      "LightGBM      0.734912\n",
      "grad_boost    0.729649\n",
      "xgboost       0.729557\n",
      "ada_boost     0.709765\n",
      "forest        0.704892\n",
      "extra_tree    0.698990\n",
      "ridge         0.670319\n",
      "LinearSVC     0.661067\n",
      "bagging       0.639356\n",
      "LR            0.608795\n",
      "tree          0.537374\n",
      "sgd           0.529860\n",
      "passive       0.525195\n",
      "dtype: float64\n"
     ]
    }
   ],
   "source": [
    "# Print the scores \n",
    "model_scores = pd.DataFrame(scores).mean()\n",
    "model_scores = model_scores.sort_values(ascending=False)\n",
    "print('Model scores\\n{}'.format(model_scores))"
   ]
  },
  {
   "cell_type": "code",
   "execution_count": 73,
   "metadata": {},
   "outputs": [
    {
     "name": "stderr",
     "output_type": "stream",
     "text": [
      "C:\\Users\\slimh\\Anaconda3\\lib\\site-packages\\sklearn\\linear_model\\_logistic.py:939: ConvergenceWarning: lbfgs failed to converge (status=1):\n",
      "STOP: TOTAL NO. of ITERATIONS REACHED LIMIT.\n",
      "\n",
      "Increase the number of iterations (max_iter) or scale the data as shown in:\n",
      "    https://scikit-learn.org/stable/modules/preprocessing.html.\n",
      "Please also refer to the documentation for alternative solver options:\n",
      "    https://scikit-learn.org/stable/modules/linear_model.html#logistic-regression\n",
      "  extra_warning_msg=_LOGISTIC_SOLVER_CONVERGENCE_MSG)\n"
     ]
    },
    {
     "name": "stdout",
     "output_type": "stream",
     "text": [
      "Classe prédite       0      1\n",
      "Classe réelle                \n",
      "0               167217  97837\n",
      "1                11547  14687\n",
      "\n",
      "\n",
      "              precision    recall  f1-score   support\n",
      "\n",
      "           0       0.94      0.63      0.75    265054\n",
      "           1       0.13      0.56      0.21     26234\n",
      "\n",
      "    accuracy                           0.62    291288\n",
      "   macro avg       0.53      0.60      0.48    291288\n",
      "weighted avg       0.86      0.62      0.70    291288\n",
      "\n",
      "\n",
      "\n",
      "score : 0.624481612699459\n",
      "courbe roc : 0.6055920018194609\n"
     ]
    }
   ],
   "source": [
    "from sklearn.model_selection import train_test_split\n",
    "from sklearn.metrics import classification_report\n",
    "from sklearn.metrics import roc_curve\n",
    "from sklearn.metrics import auc\n",
    "\n",
    "X_train, X_test, y_train, y_test = train_test_split(X, y,test_size=0.3, random_state=42)\n",
    "\n",
    "LR = LogisticRegression(class_weight='balanced',C=1)\n",
    "\n",
    "\n",
    "LR.fit(X_train, y_train)  # On entraîne le modèle sur le jeu de données train\n",
    "predicted = LR.predict(X_test)\n",
    "\n",
    "\n",
    "\n",
    "print(pd.crosstab(y_test, predicted, rownames=['Classe réelle'], colnames=['Classe prédite']))\n",
    "\n",
    "print()\n",
    "print()\n",
    "\n",
    "print(classification_report(y_test, predicted))\n",
    "\n",
    "print()\n",
    "print()\n",
    "\n",
    "print(\"score :\", LR.score(X_test, y_test))\n",
    "\n",
    "probs = LR.predict_proba(X_test)\n",
    "\n",
    "fpr, tpr, seuils = roc_curve(y_test, probs[:,1])\n",
    "\n",
    "roc_auc = auc(fpr, tpr)\n",
    "\n",
    "print(\"courbe roc :\", roc_auc)\n",
    "\n",
    "\n"
   ]
  },
  {
   "cell_type": "markdown",
   "metadata": {},
   "source": [
    "Not great at all, I think we need to deal with this 'is_churn' unbalanced, so I will try oversampling :"
   ]
  },
  {
   "cell_type": "markdown",
   "metadata": {},
   "source": [
    "<a id=\"7\"></a> <br>\n",
    "## OverSampling methods\n"
   ]
  },
  {
   "cell_type": "code",
   "execution_count": 12,
   "metadata": {},
   "outputs": [
    {
     "name": "stderr",
     "output_type": "stream",
     "text": [
      "Using TensorFlow backend.\n"
     ]
    }
   ],
   "source": [
    "from imblearn.over_sampling import (RandomOverSampler, \n",
    "                                    SMOTE, \n",
    "                                    ADASYN)"
   ]
  },
  {
   "cell_type": "markdown",
   "metadata": {},
   "source": [
    "### RandomOverSampler"
   ]
  },
  {
   "cell_type": "code",
   "execution_count": 14,
   "metadata": {},
   "outputs": [],
   "source": [
    "sampler = RandomOverSampler(random_state=12, sampling_strategy = 1.0)\n",
    "X_rs, y_rs = sampler.fit_sample(X, y)"
   ]
  },
  {
   "cell_type": "code",
   "execution_count": 22,
   "metadata": {},
   "outputs": [
    {
     "data": {
      "text/plain": [
       "fit_time       7.237614\n",
       "score_time     1.290675\n",
       "test_score     0.741993\n",
       "train_score    0.743721\n",
       "dtype: float64"
      ]
     },
     "execution_count": 22,
     "metadata": {},
     "output_type": "execute_result"
    }
   ],
   "source": [
    "KFold = StratifiedKFold(n_splits=3, shuffle = True)\n",
    "\n",
    "def score_model(model):\n",
    "    return cross_validate(model, X_rs, y_rs, scoring='roc_auc', cv = KFold, return_train_score=True)\n",
    "\n",
    "ScoreLightGBM = score_model(LGBMClassifier())\n",
    "\n",
    "pd.DataFrame(ScoreLightGBM).mean()"
   ]
  },
  {
   "cell_type": "markdown",
   "metadata": {},
   "source": [
    "That's seems a little better."
   ]
  },
  {
   "cell_type": "markdown",
   "metadata": {},
   "source": [
    "## SMOTE"
   ]
  },
  {
   "cell_type": "code",
   "execution_count": 24,
   "metadata": {},
   "outputs": [],
   "source": [
    "sampler = SMOTE(random_state=12, sampling_strategy = 1.0)\n",
    "X_rs, y_rs = sampler.fit_sample(X, y)"
   ]
  },
  {
   "cell_type": "code",
   "execution_count": 26,
   "metadata": {},
   "outputs": [],
   "source": [
    "KFold = StratifiedKFold(n_splits=5, shuffle = True)\n",
    "\n",
    "def score_model(model):\n",
    "    return cross_validate(model, X_rs, y_rs, scoring='roc_auc', cv = KFold, return_train_score=True)\n",
    "\n",
    "ScoreLightGBM = score_model(LGBMClassifier())"
   ]
  },
  {
   "cell_type": "code",
   "execution_count": 27,
   "metadata": {},
   "outputs": [
    {
     "data": {
      "text/plain": [
       "fit_time       12.130068\n",
       "score_time      1.261275\n",
       "test_score      0.960914\n",
       "train_score     0.961106\n",
       "dtype: float64"
      ]
     },
     "execution_count": 27,
     "metadata": {},
     "output_type": "execute_result"
    }
   ],
   "source": [
    "pd.DataFrame(ScoreLightGBM).mean()"
   ]
  },
  {
   "cell_type": "markdown",
   "metadata": {},
   "source": [
    "Very nice ! SMOTE is always the one !"
   ]
  },
  {
   "cell_type": "markdown",
   "metadata": {},
   "source": [
    "### Adasyn"
   ]
  },
  {
   "cell_type": "code",
   "execution_count": 28,
   "metadata": {},
   "outputs": [],
   "source": [
    "sampler = ADASYN(random_state=12, sampling_strategy = 1.0)\n",
    "X_rs, y_rs = sampler.fit_sample(X, y)"
   ]
  },
  {
   "cell_type": "code",
   "execution_count": 29,
   "metadata": {},
   "outputs": [],
   "source": [
    "KFold = StratifiedKFold(n_splits=5, shuffle = True)\n",
    "\n",
    "def score_model(model):\n",
    "    return cross_validate(model, X_rs, y_rs, scoring='roc_auc', cv = KFold, return_train_score=True)\n",
    "\n",
    "ScoreLightGBM = score_model(LGBMClassifier())"
   ]
  },
  {
   "cell_type": "code",
   "execution_count": 30,
   "metadata": {},
   "outputs": [
    {
     "data": {
      "text/plain": [
       "fit_time       10.708433\n",
       "score_time      1.118138\n",
       "test_score      0.960110\n",
       "train_score     0.960331\n",
       "dtype: float64"
      ]
     },
     "execution_count": 30,
     "metadata": {},
     "output_type": "execute_result"
    }
   ],
   "source": [
    "pd.DataFrame(ScoreLightGBM).mean()"
   ]
  },
  {
   "cell_type": "markdown",
   "metadata": {},
   "source": [
    "Very nice too, but slightly less than smote."
   ]
  },
  {
   "cell_type": "markdown",
   "metadata": {},
   "source": [
    "<a id=\"8\"></a> <br>\n",
    "## Hyperparameter tuning"
   ]
  },
  {
   "cell_type": "code",
   "execution_count": 33,
   "metadata": {},
   "outputs": [
    {
     "data": {
      "text/plain": [
       "array([300, 350, 400, 450, 500, 550, 600, 650, 700, 750, 800, 850, 900,\n",
       "       950])"
      ]
     },
     "execution_count": 33,
     "metadata": {},
     "output_type": "execute_result"
    }
   ],
   "source": [
    "np.arange(500,1000,50)"
   ]
  },
  {
   "cell_type": "code",
   "execution_count": 34,
   "metadata": {},
   "outputs": [
    {
     "data": {
      "text/plain": [
       "GridSearchCV(cv=None, error_score=nan,\n",
       "             estimator=LGBMClassifier(boosting_type='gbdt', class_weight=None,\n",
       "                                      colsample_bytree=1.0,\n",
       "                                      importance_type='split',\n",
       "                                      learning_rate=0.1, max_depth=-1,\n",
       "                                      min_child_samples=20,\n",
       "                                      min_child_weight=0.001,\n",
       "                                      min_split_gain=0.0, n_estimators=100,\n",
       "                                      n_jobs=-1, num_leaves=31, objective=None,\n",
       "                                      random_state=None, reg_alpha=0.0,\n",
       "                                      reg_lambda=0.0, silent=True,\n",
       "                                      subsample=1.0, subsample_for_bin=200000,\n",
       "                                      subsample_freq=0),\n",
       "             iid='deprecated', n_jobs=None,\n",
       "             param_grid={'learning_rate': array([0.01, 0.03, 0.05, 0.07, 0.09]),\n",
       "                         'max_depth': array([1, 2, 3, 4, 5, 6, 7, 8]),\n",
       "                         'n_estimators': array([500, 550, 600, 650, 700, 750, 800, 850, 900, 950])},\n",
       "             pre_dispatch='2*n_jobs', refit=True, return_train_score=False,\n",
       "             scoring=None, verbose=0)"
      ]
     },
     "execution_count": 34,
     "metadata": {},
     "output_type": "execute_result"
    }
   ],
   "source": [
    "from sklearn import svm, datasets\n",
    "from sklearn.model_selection import GridSearchCV\n",
    "\n",
    "parameters = {'max_depth':np.arange(1,9), 'n_estimators': np.arange(500,1000,50), 'learning_rate' : np.arange(0.01, 0.1, 0.02)}\n",
    "LGBM = LGBMClassifier()\n",
    "clf = GridSearchCV(LGBM, parameters)\n",
    "clf.fit(X_rs, y_rs)"
   ]
  },
  {
   "cell_type": "code",
   "execution_count": 52,
   "metadata": {},
   "outputs": [
    {
     "name": "stdout",
     "output_type": "stream",
     "text": [
      "The best score obtained with GridSearchCV is 0.9339683297403576 with those parameters : {'learning_rate': 0.08999999999999998, 'max_depth': 8, 'n_estimators': 950}\n"
     ]
    }
   ],
   "source": [
    "print('The best score obtained with GridSearchCV is {} with those parameters : {}'. format(clf.best_score_, clf.best_params_))"
   ]
  },
  {
   "cell_type": "code",
   "execution_count": 41,
   "metadata": {},
   "outputs": [
    {
     "name": "stdout",
     "output_type": "stream",
     "text": [
      "Classe prédite       0       1\n",
      "Classe réelle                 \n",
      "0               261237    4045\n",
      "1                29740  231262\n",
      "\n",
      "\n",
      "              precision    recall  f1-score   support\n",
      "\n",
      "           0       0.90      0.98      0.94    265282\n",
      "           1       0.98      0.89      0.93    261002\n",
      "\n",
      "    accuracy                           0.94    526284\n",
      "   macro avg       0.94      0.94      0.94    526284\n",
      "weighted avg       0.94      0.94      0.94    526284\n",
      "\n",
      "\n",
      "\n",
      "score : 0.9358046225992049\n",
      "courbe roc : 0.9662816688259053\n"
     ]
    }
   ],
   "source": [
    "from sklearn.model_selection import train_test_split\n",
    "from sklearn.metrics import classification_report\n",
    "from sklearn.metrics import roc_curve\n",
    "from sklearn.metrics import auc\n",
    "\n",
    "X_train, X_test, y_train, y_test = train_test_split(X_rs, y_rs,test_size=0.3, random_state=42)\n",
    "\n",
    "LR = LGBMClassifier(learning_rate= 0.08999999999999998, max_depth= 8, n_estimators=  950)\n",
    "\n",
    "\n",
    "LR.fit(X_train, y_train)  # On entraîne le modèle sur le jeu de données train\n",
    "predicted = LR.predict(X_test)\n",
    "\n",
    "\n",
    "\n",
    "print(pd.crosstab(y_test, predicted, rownames=['Classe réelle'], colnames=['Classe prédite']))\n",
    "\n",
    "print()\n",
    "print()\n",
    "\n",
    "print(classification_report(y_test, predicted))\n",
    "\n",
    "print()\n",
    "print()\n",
    "\n",
    "print(\"score :\", LR.score(X_test, y_test))\n",
    "\n",
    "probs = LR.predict_proba(X_test)\n",
    "\n",
    "fpr, tpr, seuils = roc_curve(y_test, probs[:,1])\n",
    "\n",
    "roc_auc = auc(fpr, tpr)\n",
    "\n",
    "print(\"courbe roc :\", roc_auc)"
   ]
  },
  {
   "cell_type": "markdown",
   "metadata": {},
   "source": [
    "Very nice !"
   ]
  },
  {
   "cell_type": "markdown",
   "metadata": {},
   "source": [
    "<a id=\"9\"></a> <br>\n",
    "## First submit to Kaggle"
   ]
  },
  {
   "cell_type": "code",
   "execution_count": 44,
   "metadata": {},
   "outputs": [
    {
     "data": {
      "text/plain": [
       "0.9113413528878636"
      ]
     },
     "execution_count": 44,
     "metadata": {},
     "output_type": "execute_result"
    }
   ],
   "source": [
    "LGBM = LGBMClassifier(learning_rate= 0.08999999999999998, max_depth= 8, n_estimators=  950)\n",
    "LGBM.fit(X,y)\n",
    "y_pred = LGBM.predict_proba(x_test)[:,1]\n",
    "LGBM.score(X,y)"
   ]
  },
  {
   "cell_type": "code",
   "execution_count": 45,
   "metadata": {},
   "outputs": [],
   "source": [
    "submit = pd.DataFrame({'msno':test['msno'],'is_churn':y_pred})\n",
    "submit.to_csv('LGBM_pred.csv',index=False)"
   ]
  },
  {
   "cell_type": "markdown",
   "metadata": {},
   "source": [
    "0,15882"
   ]
  },
  {
   "cell_type": "code",
   "execution_count": 46,
   "metadata": {},
   "outputs": [
    {
     "data": {
      "text/plain": [
       "0.9104906484304194"
      ]
     },
     "execution_count": 46,
     "metadata": {},
     "output_type": "execute_result"
    }
   ],
   "source": [
    "LGBM = LGBMClassifier()\n",
    "LGBM.fit(X,y)\n",
    "y_pred = LGBM.predict_proba(x_test)[:,1]\n",
    "LGBM.score(X,y)"
   ]
  },
  {
   "cell_type": "code",
   "execution_count": 47,
   "metadata": {},
   "outputs": [],
   "source": [
    "submit = pd.DataFrame({'msno':test['msno'],'is_churn':y_pred})\n",
    "submit.to_csv('LGBM_pred2.csv',index=False)"
   ]
  },
  {
   "cell_type": "markdown",
   "metadata": {},
   "source": [
    "0,15824"
   ]
  },
  {
   "cell_type": "markdown",
   "metadata": {},
   "source": [
    "The hyperparameters tuning wasn't necessary after all. We can see that the result are almost identical, with and without the paramaters obtained with GridSearchCV. I had to try, just for good measures."
   ]
  },
  {
   "cell_type": "markdown",
   "metadata": {},
   "source": [
    "<a id=\"10\"></a> <br>\n",
    "## Feature Engineering\n",
    "\n",
    "\"Feature Engineering is an art\". Someone once said to spend more time on deriving more and meaningful features.But infomation fed to the model must make sense in whatever form it is given. Creating loads of features having no sense is of no use at all.\n",
    "\n",
    "Let's try adding some feature to our models. Those feature will be created from feature previously here. "
   ]
  },
  {
   "cell_type": "markdown",
   "metadata": {},
   "source": [
    "I'll start over my process, in order to have a clear mind.\n",
    "Let's load the data :"
   ]
  },
  {
   "cell_type": "code",
   "execution_count": 33,
   "metadata": {},
   "outputs": [],
   "source": [
    "train = pd.read_csv('train_v2.csv',dtype={'is_churn':np.int8})\n",
    "test = pd.read_csv('sample_submission_v2.csv',dtype={'is_churn':np.int8})\n",
    "members = pd.read_csv('members_v3.csv',parse_dates=['registration_init_time'],dtype={'city':np.int8,'bd':np.int8,\n",
    "                                                                                         'registered_via':np.int8})\n",
    "transactions = pd.read_csv('transactions_v2.csv',parse_dates=['transaction_date','membership_expire_date'],\n",
    "                          dtype={'payment_method_id':np.int8,'payment_plan_days':np.int8,'plan_list_price':np.int8,\n",
    "                                'actual_amount_paid':np.int8,'is_auto_renew':np.int8,'is_cancel':np.int8})\n",
    "\n",
    "user_log = pd.read_csv('user_logs_v2.csv',parse_dates=['date'],dtype={'num_25':np.int16,'num_50':np.int16,\n",
    "                                    'num_75':np.int16,'num_985':np.int16,'num_100':np.int16,'num_unq':np.int16})"
   ]
  },
  {
   "cell_type": "markdown",
   "metadata": {},
   "source": [
    "Let's get started !"
   ]
  },
  {
   "cell_type": "markdown",
   "metadata": {},
   "source": [
    "### Feature 1 : discount\n",
    "We can create a discount column to see how much discount was offered to the customer."
   ]
  },
  {
   "cell_type": "code",
   "execution_count": 34,
   "metadata": {},
   "outputs": [
    {
     "data": {
      "text/plain": [
       "array([   0,  -76,   30,  107, -107,   50, -119,   20,   99,   45,   -1,\n",
       "        127,  -84, -127,  120,    4, -100,   80,   65,    1,   63,   10,\n",
       "          8,  -90,   -3, -126,  126], dtype=int64)"
      ]
     },
     "execution_count": 34,
     "metadata": {},
     "output_type": "execute_result"
    }
   ],
   "source": [
    "transactions['discount'] = transactions['plan_list_price'] - transactions['actual_amount_paid']\n",
    "\n",
    "transactions['discount'].unique()"
   ]
  },
  {
   "cell_type": "markdown",
   "metadata": {},
   "source": [
    "### Feature 2 : is_discount¶\n",
    "Let us create another column is_column to check whether the customer has availed any discount or not."
   ]
  },
  {
   "cell_type": "code",
   "execution_count": 35,
   "metadata": {},
   "outputs": [
    {
     "name": "stdout",
     "output_type": "stream",
     "text": [
      "0    0\n",
      "1    0\n",
      "2    0\n",
      "3    0\n",
      "4    0\n",
      "Name: is_discount, dtype: int64\n",
      "[0 1]\n"
     ]
    }
   ],
   "source": [
    "transactions['is_discount'] = transactions.discount.apply(lambda x: 1 if x > 0 else 0)\n",
    "print(transactions['is_discount'].head())\n",
    "print(transactions['is_discount'].unique())"
   ]
  },
  {
   "cell_type": "markdown",
   "metadata": {},
   "source": [
    "### Feature 3 : amount_per_day\n",
    "A new column featuring amount per-day can be added."
   ]
  },
  {
   "cell_type": "code",
   "execution_count": 36,
   "metadata": {},
   "outputs": [
    {
     "data": {
      "text/plain": [
       "0    0.466667\n",
       "1   -3.566667\n",
       "2   -2.533333\n",
       "3   -2.533333\n",
       "4    3.300000\n",
       "Name: amt_per_day, dtype: float64"
      ]
     },
     "execution_count": 36,
     "metadata": {},
     "output_type": "execute_result"
    }
   ],
   "source": [
    "transactions['amt_per_day'] = transactions['actual_amount_paid'] / transactions['payment_plan_days']\n",
    "transactions['amt_per_day'].head()"
   ]
  },
  {
   "cell_type": "markdown",
   "metadata": {},
   "source": [
    "### Feature 4 : membership_duration\n",
    "The difference between transaction_date and membership_expire_date would give us membership duration."
   ]
  },
  {
   "cell_type": "code",
   "execution_count": 37,
   "metadata": {},
   "outputs": [],
   "source": [
    "transactions['membership_duration'] = transactions.membership_expire_date - transactions.transaction_date\n",
    "transactions['membership_duration'] = transactions['membership_duration'] / np.timedelta64(1, 'D')\n",
    "transactions['membership_duration'] = transactions['membership_duration'].astype(int)\n"
   ]
  },
  {
   "cell_type": "markdown",
   "metadata": {},
   "source": [
    "Let's merge train, members and transactions :"
   ]
  },
  {
   "cell_type": "code",
   "execution_count": 38,
   "metadata": {},
   "outputs": [],
   "source": [
    "train = pd.merge(train,members,on='msno',how='left')\n",
    "test = pd.merge(test,members,on='msno',how='left')\n",
    "train = pd.merge(train,transactions,how='left',on='msno',left_index=True, right_index=True)\n",
    "test = pd.merge(test,transactions,how='left',on='msno',left_index=True, right_index=True,)"
   ]
  },
  {
   "cell_type": "markdown",
   "metadata": {},
   "source": [
    "### Feature 5 : autorenew_&_not_cancel\n",
    "A binary feature to see whether mebers have auto renewed and not cancelled at the same time:\n",
    "\n",
    " - auto_renew = 1 and\n",
    " - is_cancel = 0"
   ]
  },
  {
   "cell_type": "code",
   "execution_count": 39,
   "metadata": {},
   "outputs": [
    {
     "data": {
      "text/plain": [
       "array([0, 1], dtype=int64)"
      ]
     },
     "execution_count": 39,
     "metadata": {},
     "output_type": "execute_result"
    }
   ],
   "source": [
    "train['autorenew_&_not_cancel'] = ((train.is_auto_renew == 1) == (train.is_cancel == 0)).astype(np.int8)\n",
    "train['autorenew_&_not_cancel'].unique()"
   ]
  },
  {
   "cell_type": "code",
   "execution_count": 40,
   "metadata": {},
   "outputs": [
    {
     "data": {
      "text/plain": [
       "array([0, 1], dtype=int64)"
      ]
     },
     "execution_count": 40,
     "metadata": {},
     "output_type": "execute_result"
    }
   ],
   "source": [
    "test['autorenew_&_not_cancel'] = ((test.is_auto_renew == 1) == (test.is_cancel == 0)).astype(np.int8)\n",
    "test['autorenew_&_not_cancel'].unique()"
   ]
  },
  {
   "cell_type": "markdown",
   "metadata": {},
   "source": [
    "### Feature 6 : notAutorenew_&_cancel\n",
    "Binary feature to predict possible churning if\n",
    "\n",
    "- auto_renew = 0 and\n",
    "- is_cancel = 1"
   ]
  },
  {
   "cell_type": "code",
   "execution_count": 41,
   "metadata": {},
   "outputs": [
    {
     "data": {
      "text/plain": [
       "array([0, 1], dtype=int64)"
      ]
     },
     "execution_count": 41,
     "metadata": {},
     "output_type": "execute_result"
    }
   ],
   "source": [
    "train['notAutorenew_&_cancel'] = ((train.is_auto_renew == 0) == (train.is_cancel == 1)).astype(np.int8)\n",
    "train['notAutorenew_&_cancel'].unique()"
   ]
  },
  {
   "cell_type": "code",
   "execution_count": 42,
   "metadata": {},
   "outputs": [
    {
     "data": {
      "text/plain": [
       "array([0, 1], dtype=int64)"
      ]
     },
     "execution_count": 42,
     "metadata": {},
     "output_type": "execute_result"
    }
   ],
   "source": [
    "test['notAutorenew_&_cancel'] = ((test.is_auto_renew == 0) == (test.is_cancel == 1)).astype(np.int8)\n",
    "test['notAutorenew_&_cancel'].unique()"
   ]
  },
  {
   "cell_type": "markdown",
   "metadata": {},
   "source": [
    "Now, we'll merge with user_log to have a complete database for our modelling."
   ]
  },
  {
   "cell_type": "code",
   "execution_count": 43,
   "metadata": {},
   "outputs": [],
   "source": [
    "train = pd.merge(train,user_log,how='left',on='msno',left_index=True, right_index=True)\n",
    "test = pd.merge(test,user_log,how='left',on='msno',left_index=True, right_index=True)"
   ]
  },
  {
   "cell_type": "markdown",
   "metadata": {},
   "source": [
    "Let's remake our data processing."
   ]
  },
  {
   "cell_type": "code",
   "execution_count": 44,
   "metadata": {},
   "outputs": [],
   "source": [
    "train['registration_init_time'] = train['registration_init_time'].fillna(value=pd.to_datetime('09/10/2015'))\n",
    "test['registration_init_time'] = test['registration_init_time'].fillna(value=pd.to_datetime('09/10/2015'))"
   ]
  },
  {
   "cell_type": "code",
   "execution_count": 45,
   "metadata": {},
   "outputs": [],
   "source": [
    "def date_feature(df):\n",
    "    \n",
    "    col = ['registration_init_time' ,'transaction_date','membership_expire_date','date']\n",
    "    var = ['reg','trans','mem_exp','user_']\n",
    "    #df['duration'] = (df[col[1]] - df[col[0]]).dt.days \n",
    "    \n",
    "    for i ,j in zip(col,var):\n",
    "        df[j+'_day'] = df[i].dt.day.astype('uint8')\n",
    "        df[j+'_weekday'] = df[i].dt.weekday.astype('uint8')        \n",
    "        df[j+'_month'] = df[i].dt.month.astype('uint8') \n",
    "        df[j+'_year'] =df[i].dt.year.astype('uint16') \n",
    "\n",
    "date_feature(train)\n",
    "date_feature(test)"
   ]
  },
  {
   "cell_type": "code",
   "execution_count": 46,
   "metadata": {},
   "outputs": [],
   "source": [
    "col = [ 'city', 'bd', 'gender', 'registered_via', 'amt_per_day']\n",
    "def missing(df,columns):\n",
    "    col = columns\n",
    "    for i in col:\n",
    "        df[i].fillna(df[i].mode()[0],inplace=True)\n",
    "        \n",
    "missing(train,col)\n",
    "missing(test,col)"
   ]
  },
  {
   "cell_type": "code",
   "execution_count": 47,
   "metadata": {},
   "outputs": [],
   "source": [
    "from sklearn.preprocessing import LabelEncoder\n",
    "\n",
    "le = LabelEncoder()\n",
    "train['gender'] = le.fit_transform(train['gender'])\n",
    "test['gender'] = le.fit_transform(test['gender'])"
   ]
  },
  {
   "cell_type": "code",
   "execution_count": 48,
   "metadata": {},
   "outputs": [
    {
     "name": "stdout",
     "output_type": "stream",
     "text": [
      "Categorical columns in dataset ['city', 'gender', 'registered_via']\n",
      "(970960, 67)\n",
      "Categorical columns in dataset ['city', 'gender', 'registered_via']\n",
      "(907471, 67)\n"
     ]
    }
   ],
   "source": [
    "def OHE(df):\n",
    "    col = ['city','gender','registered_via']\n",
    "    print('Categorical columns in dataset',col)\n",
    "    \n",
    "    c2,c3 = [],{}\n",
    "    for c in col:\n",
    "        if df[c].nunique()>2 :\n",
    "            c2.append(c)\n",
    "            c3[c] = 'ohe_'+c\n",
    "    \n",
    "    df = pd.get_dummies(df,columns=c2,drop_first=True,prefix=c3)\n",
    "    print(df.shape)\n",
    "    return df\n",
    "train1 = OHE(train)\n",
    "test1 = OHE(test)"
   ]
  },
  {
   "cell_type": "code",
   "execution_count": 49,
   "metadata": {},
   "outputs": [],
   "source": [
    "# train1 =train1[~train.isin([np.nan, np.inf, -np.inf]).any(1)]"
   ]
  },
  {
   "cell_type": "code",
   "execution_count": 63,
   "metadata": {},
   "outputs": [],
   "source": [
    "unwanted = ['msno','is_churn','registration_init_time','transaction_date','membership_expire_date','date']\n",
    "unwanted2 = ['is_churn','registration_init_time','transaction_date','membership_expire_date','date']\n",
    "\n",
    "X = train1.drop(unwanted,axis=1)\n",
    "y = train1['is_churn'].astype('category')\n",
    "x_test = test1.drop(unwanted2,axis=1)"
   ]
  },
  {
   "cell_type": "markdown",
   "metadata": {},
   "source": [
    "Like earlier, I will use SMOTE"
   ]
  },
  {
   "cell_type": "code",
   "execution_count": 24,
   "metadata": {},
   "outputs": [
    {
     "name": "stderr",
     "output_type": "stream",
     "text": [
      "Using TensorFlow backend.\n"
     ]
    }
   ],
   "source": [
    "from imblearn.over_sampling import (RandomOverSampler, \n",
    "                                    SMOTE, \n",
    "                                    ADASYN)"
   ]
  },
  {
   "cell_type": "code",
   "execution_count": 64,
   "metadata": {},
   "outputs": [],
   "source": [
    "sampler = SMOTE(random_state=12, sampling_strategy = 1.0)\n",
    "X_rs, y_rs = sampler.fit_sample(X, y)"
   ]
  },
  {
   "cell_type": "markdown",
   "metadata": {},
   "source": [
    "<a id=\"11\"></a> <br>\n",
    "## Model selection\n",
    "\n",
    "Because of all our modifications, it's better to relauch our models selection. To see if LightGBM is our best model again."
   ]
  },
  {
   "cell_type": "code",
   "execution_count": null,
   "metadata": {},
   "outputs": [],
   "source": [
    "from sklearn.model_selection import StratifiedKFold\n",
    "from sklearn.model_selection import cross_validate\n",
    "from sklearn.model_selection import cross_val_score\n",
    "from sklearn.ensemble import RandomForestClassifier\n",
    "from sklearn.tree import DecisionTreeClassifier\n",
    "from sklearn.ensemble import GradientBoostingClassifier\n",
    "import sklearn.model_selection as ms\n",
    "from lightgbm import LGBMClassifier\n",
    "import xgboost as xgb\n",
    "from sklearn.ensemble import ExtraTreesClassifier\n",
    "from sklearn.ensemble import VotingClassifier\n",
    "from sklearn.model_selection import StratifiedKFold\n",
    "\n",
    "from sklearn.svm import LinearSVC\n",
    "from sklearn.linear_model import LogisticRegression\n",
    "\n",
    "\n",
    "from sklearn import tree\n",
    "from sklearn import metrics\n",
    "from sklearn import ensemble\n",
    "from sklearn import linear_model \n",
    "from sklearn import naive_bayes \n",
    "\n",
    "\n",
    "\n",
    "KFold = StratifiedKFold(n_splits=3, shuffle = True)\n",
    "scores = {}\n",
    "\n",
    "def score_model(model):\n",
    "    return cross_val_score(model, X_rs, y_rs, scoring='roc_auc', cv = KFold)\n",
    "\n",
    "\n",
    "\n",
    "# time: 10s\n",
    "scores['tree'] = score_model(tree.DecisionTreeClassifier())\n",
    "\n",
    "# time: 9s\n",
    "scores['extra_tree'] = score_model(ensemble.ExtraTreesClassifier())\n",
    "\n",
    "# time: 7s\n",
    "scores['forest'] = score_model(ensemble.RandomForestClassifier())\n",
    "\n",
    "# time: 33s\n",
    "scores['ada_boost'] = score_model(ensemble.AdaBoostClassifier())\n",
    "\n",
    "# time: 1min\n",
    "scores['bagging'] = score_model(ensemble.BaggingClassifier())\n",
    "\n",
    "# time: 2min30s\n",
    "scores['grad_boost'] = score_model(ensemble.GradientBoostingClassifier())\n",
    "\n",
    "# time: 49s\n",
    "scores['ridge'] = score_model(linear_model.RidgeClassifier())\n",
    "\n",
    "# time: 4s\n",
    "scores['passive'] = score_model(linear_model.PassiveAggressiveClassifier())\n",
    "\n",
    "# time: 4s\n",
    "scores['sgd'] = score_model(linear_model.SGDClassifier())\n",
    "\n",
    "# time: 3s\n",
    "#scores['gaussian'] = score_model(naive_bayes.GaussianNB())\n",
    "\n",
    "# time: 4min\n",
    "scores['xgboost'] = score_model(xgb.XGBClassifier())\n",
    "\n",
    "scores['LightGBM'] = score_model(LGBMClassifier())\n",
    "\n",
    "scores['LinearSVC'] = score_model(LinearSVC())\n",
    "\n",
    "scores['LR'] = score_model(LogisticRegression())"
   ]
  },
  {
   "cell_type": "code",
   "execution_count": 55,
   "metadata": {},
   "outputs": [
    {
     "name": "stdout",
     "output_type": "stream",
     "text": [
      "Model scores\n",
      "forest        0.969058\n",
      "extra_tree    0.968824\n",
      "LightGBM      0.961582\n",
      "bagging       0.956328\n",
      "xgboost       0.928081\n",
      "grad_boost    0.927092\n",
      "ada_boost     0.926491\n",
      "ridge         0.911419\n",
      "tree          0.871226\n",
      "LinearSVC     0.836330\n",
      "passive       0.757302\n",
      "sgd           0.696927\n",
      "LR            0.630384\n",
      "dtype: float64\n"
     ]
    }
   ],
   "source": [
    "# Print the scores \n",
    "model_scores = pd.DataFrame(scores).mean()\n",
    "model_scores = model_scores.sort_values(ascending=False)\n",
    "print('Model scores\\n{}'.format(model_scores))"
   ]
  },
  {
   "cell_type": "markdown",
   "metadata": {},
   "source": [
    "Random Forest beats slightly LightGBM, let's use it."
   ]
  },
  {
   "cell_type": "code",
   "execution_count": 57,
   "metadata": {},
   "outputs": [
    {
     "name": "stdout",
     "output_type": "stream",
     "text": [
      "Classe prédite       0       1\n",
      "Classe réelle                 \n",
      "0               259032    5442\n",
      "1                31389  233521\n",
      "\n",
      "\n",
      "              precision    recall  f1-score   support\n",
      "\n",
      "           0       0.89      0.98      0.93    264474\n",
      "           1       0.98      0.88      0.93    264910\n",
      "\n",
      "    accuracy                           0.93    529384\n",
      "   macro avg       0.93      0.93      0.93    529384\n",
      "weighted avg       0.93      0.93      0.93    529384\n",
      "\n",
      "\n",
      "\n",
      "score : 0.930426684599459\n",
      "courbe roc : 0.9694454056885595\n"
     ]
    }
   ],
   "source": [
    "from sklearn.model_selection import train_test_split\n",
    "from sklearn.metrics import classification_report\n",
    "from sklearn.metrics import roc_curve\n",
    "from sklearn.metrics import auc\n",
    "\n",
    "X_train, X_test, y_train, y_test = train_test_split(X_rs, y_rs,test_size=0.3, random_state=42)\n",
    "\n",
    "LR = RandomForestClassifier()\n",
    "\n",
    "\n",
    "LR.fit(X_train, y_train)  # On entraîne le modèle sur le jeu de données train\n",
    "predicted = LR.predict(X_test)\n",
    "\n",
    "\n",
    "\n",
    "print(pd.crosstab(y_test, predicted, rownames=['Classe réelle'], colnames=['Classe prédite']))\n",
    "\n",
    "print()\n",
    "print()\n",
    "\n",
    "print(classification_report(y_test, predicted))\n",
    "\n",
    "print()\n",
    "print()\n",
    "\n",
    "print(\"score :\", LR.score(X_test, y_test))\n",
    "\n",
    "probs = LR.predict_proba(X_test)\n",
    "\n",
    "fpr, tpr, seuils = roc_curve(y_test, probs[:,1])\n",
    "\n",
    "roc_auc = auc(fpr, tpr)\n",
    "\n",
    "print(\"courbe roc :\", roc_auc)\n"
   ]
  },
  {
   "cell_type": "markdown",
   "metadata": {},
   "source": [
    "Very nice result. Modalities 0 and 1 are wery well predicted despite the unbalanced data, thanks to SMOTE !"
   ]
  },
  {
   "cell_type": "markdown",
   "metadata": {},
   "source": [
    "<a id=\"12\"></a> <br>\n",
    "## Second submit to Kaggle"
   ]
  },
  {
   "cell_type": "code",
   "execution_count": 60,
   "metadata": {},
   "outputs": [
    {
     "data": {
      "text/plain": [
       "0.9999907168356374"
      ]
     },
     "execution_count": 60,
     "metadata": {},
     "output_type": "execute_result"
    }
   ],
   "source": [
    "#x_test =x_test[~x_test.isin([np.nan, np.inf, -np.inf]).any(1)]\n",
    "\n",
    "clf = RandomForestClassifier()\n",
    "clf.fit(X_rs,y_rs)\n",
    "y_pred = clf.predict_proba(x_test)[:,1]\n",
    "clf.score(X,y)"
   ]
  },
  {
   "cell_type": "code",
   "execution_count": 74,
   "metadata": {},
   "outputs": [],
   "source": [
    "unwanted = ['msno','is_churn','registration_init_time','transaction_date','membership_expire_date','date']\n",
    "unwanted2 = ['is_churn','registration_init_time','transaction_date','membership_expire_date','date']\n",
    "\n",
    "X = train1.drop(unwanted,axis=1)\n",
    "y = train1['is_churn'].astype('category')\n",
    "x_test = test1.drop(unwanted,axis=1)\n",
    "\n",
    "x_test =x_test[~x_test.isin([np.nan, np.inf, -np.inf]).any(1)]\n",
    "\n",
    "y_pred = clf.predict_proba(x_test)[:,1]"
   ]
  },
  {
   "cell_type": "code",
   "execution_count": 75,
   "metadata": {},
   "outputs": [],
   "source": [
    "#test1 =test1[~test1.isin([np.nan, np.inf, -np.inf]).any(1)]\n",
    "\n",
    "submit = pd.DataFrame({'msno':test1['msno'],'is_churn':y_pred})\n",
    "submit.to_csv('RF_pred.csv',index=False)"
   ]
  },
  {
   "cell_type": "markdown",
   "metadata": {},
   "source": [
    "0.13689 ! That's better, nice ! Our feature engineering is relevant. "
   ]
  },
  {
   "cell_type": "markdown",
   "metadata": {},
   "source": []
  }
 ],
 "metadata": {
  "kernelspec": {
   "display_name": "Python 3",
   "language": "python",
   "name": "python3"
  },
  "language_info": {
   "codemirror_mode": {
    "name": "ipython",
    "version": 3
   },
   "file_extension": ".py",
   "mimetype": "text/x-python",
   "name": "python",
   "nbconvert_exporter": "python",
   "pygments_lexer": "ipython3",
   "version": "3.6.8"
  }
 },
 "nbformat": 4,
 "nbformat_minor": 2
}
